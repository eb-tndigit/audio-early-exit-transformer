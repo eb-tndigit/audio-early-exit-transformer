{
 "cells": [
  {
   "cell_type": "code",
   "execution_count": null,
   "metadata": {},
   "outputs": [],
   "source": [
    "import digitalhub as dh\n",
    "\n",
    "project = dh.get_or_create_project(\"demo-early-exit-eng\")"
   ]
  },
  {
   "cell_type": "code",
   "execution_count": null,
   "metadata": {},
   "outputs": [],
   "source": [
    "train_fn = project.new_function(name=\"train-eng-function\",\n",
    "                                kind=\"python\",\n",
    "                                python_version=\"PYTHON3_10\",\n",
    "                                code_src=\"git+https://github.com/tn-aixpa/audio-early-exit-transformer\",\n",
    "                                handler=\"train_eng_model:dh_train\",\n",
    "                                requirements=[\"torch==2.5.0\", \"torchaudio==2.5.0\", \"tensorboard==2.18.0\", \"flashlight==0.1.1\", \"flashlight-text==0.0.7\", \"sentencepiece==0.2.0\",\n",
    "                                              \"soundfile==0.12.1\", \"editdistance==0.8.1\"])"
   ]
  },
  {
   "cell_type": "code",
   "execution_count": null,
   "metadata": {},
   "outputs": [],
   "source": [
    "train_fn.run(action=\"job\", \n",
    "             profile=\"1xa100\",\n",
    "             parameters={\"librispeech_train_dataset\": \"train-clean-100\", \"num_epochs\": 100, \"model_name\": \"early-exit-eng-model\", \"base_dir\": \"/shared/\"},\n",
    "             volumes=[\n",
    "                {\n",
    "                    \"volume_type\": \"persistent_volume_claim\", \n",
    "                    \"name\": \"early-exit-demo-shared\", \n",
    "                    \"mount_path\": \"/shared\", \n",
    "                    \"spec\": { \"claim_name\": \"early-exit-demo-shared\" , \"size\": \"30Gi\" }\n",
    "                },\n",
    "                {\n",
    "                    \"volume_type\": \"persistent_volume_claim\", \n",
    "                    \"name\": \"early-exit-demo-data\", \n",
    "                    \"mount_path\": \"/data\", \n",
    "                    \"spec\": { \"claim_name\": \"early-exit-demo-data\" , \"size\": \"30Gi\" }\n",
    "                },\n",
    "            ])"
   ]
  }
 ],
 "metadata": {
  "language_info": {
   "name": "python"
  }
 },
 "nbformat": 4,
 "nbformat_minor": 2
}
