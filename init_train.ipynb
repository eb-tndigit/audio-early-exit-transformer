{
 "cells": [
  {
   "cell_type": "code",
   "execution_count": 1,
   "metadata": {},
   "outputs": [],
   "source": [
    "import digitalhub as dh\n",
    "\n",
    "project = dh.get_or_create_project(\"td733-demo-early-exit-eng\")"
   ]
  },
  {
   "cell_type": "code",
   "execution_count": 2,
   "metadata": {},
   "outputs": [],
   "source": [
    "td733-triggerstd733-triggers"
   ]
  },
  {
   "cell_type": "code",
   "execution_count": 4,
   "metadata": {},
   "outputs": [
    {
     "data": {
      "text/plain": [
       "{'kind': 'python+run', 'metadata': {'project': 'td733-demo-early-exit-eng', 'name': '2444777050584ca398d2ead960c2f234', 'created': '2025-06-23T08:27:00.417Z', 'updated': '2025-06-23T08:27:00.573Z', 'created_by': 'emanuele.boscari@tndigit.it', 'updated_by': 'emanuele.boscari@tndigit.it', 'relationships': [{'type': 'run_of', 'dest': 'store://td733-demo-early-exit-eng/function/python/train-eng-function:bec4e2d450404ec095d821bae0a0a3bb'}]}, 'spec': {'task': 'python+job://td733-demo-early-exit-eng/fb49d551348f41e2833c830d968f0a32', 'local_execution': False, 'function': 'python://td733-demo-early-exit-eng/train-eng-function:bec4e2d450404ec095d821bae0a0a3bb', 'volumes': [{'volume_type': 'persistent_volume_claim', 'name': 'early-exit-demo-shared', 'mount_path': '/shared', 'spec': {'size': '30Gi'}}, {'volume_type': 'persistent_volume_claim', 'name': 'early-exit-demo-data', 'mount_path': '/data', 'spec': {'size': '30Gi'}}], 'resources': {'cpu': {'limits': '4'}, 'mem': {'limits': '24Gi'}, 'gpu': {'requests': '1', 'limits': '1'}}, 'tolerations': [{'key': 'nvidia.com/gpu', 'operator': 'Equal', 'value': 'h100', 'effect': 'NoSchedule'}], 'source': {'source': 'git+https://github.com/tn-aixpa/audio-early-exit-transformer', 'handler': 'train_eng_model:dh_train', 'lang': 'python'}, 'python_version': 'PYTHON3_10', 'requirements': ['torch==2.5.0', 'torchaudio==2.5.0', 'tensorboard==2.18.0', 'flashlight==0.1.1', 'flashlight-text==0.0.7', 'sentencepiece==0.2.0', 'soundfile==0.12.1', 'editdistance==0.8.1'], 'inputs': {}, 'parameters': {'librispeech_train_dataset': 'train-clean-100', 'num_epochs': 10, 'model_name': 'early-exit-eng-model', 'base_dir': '/shared/'}, 'init_parameters': {}}, 'status': {'state': 'READY', 'transitions': [{'status': 'READY', 'time': '2025-06-23T08:27:00.573128155Z'}, {'status': 'BUILT', 'time': '2025-06-23T08:27:00.42364992Z'}], 'metrics': {}}, 'user': 'emanuele.boscari@tndigit.it', 'project': 'td733-demo-early-exit-eng', 'id': '2444777050584ca398d2ead960c2f234', 'name': '2444777050584ca398d2ead960c2f234', 'key': 'store://td733-demo-early-exit-eng/run/python+run/2444777050584ca398d2ead960c2f234'}"
      ]
     },
     "execution_count": 4,
     "metadata": {},
     "output_type": "execute_result"
    }
   ],
   "source": [
    "train_fn.run(action=\"job\", \n",
    "             resources = { \"cpu\": { \"limits\": \"4\"  },  \"mem\" : { \"limits\": \"24Gi\" }, \"gpu\": { \"requests\": \"1\", \"limits\": \"1\"  }},\n",
    "             tolerations = [{\"key\": \"nvidia.com/gpu\", \"operator\": \"Equal\", \"value\": \"h100\", \"effect\": \"NoSchedule\"}],           \n",
    "             parameters={\"librispeech_train_dataset\": \"train-clean-100\", \"num_epochs\": 10, \"model_name\": \"early-exit-eng-model\", \"base_dir\": \"/shared/\"},\n",
    "             volumes=[\n",
    "                {\n",
    "                    \"volume_type\": \"persistent_volume_claim\", \n",
    "                    \"name\": \"early-exit-demo-shared\", \n",
    "                    \"mount_path\": \"/shared\", \n",
    "                    \"spec\": { \"claim_name\": \"early-exit-demo-shared\",  \"size\": \"30Gi\" }\n",
    "                },\n",
    "                {\n",
    "                    \"volume_type\": \"persistent_volume_claim\", \n",
    "                    \"name\": \"early-exit-demo-data\", \n",
    "                    \"mount_path\": \"/data\", \n",
    "                    \"spec\": { \"claim_name\": \"early-exit-demo-data\",  \"size\": \"30Gi\" }\n",
    "                },\n",
    "            ])\n",
    "# aggiunto size a 30GB dentro a spec per 0.11\n",
    "# Questo per shared\n",
    "# https://www.openslr.org/resources/12/train-clean-100.tar.gz questo sono 6,9GB\n",
    "# Questo per data\n",
    "# https://www.openslr.org/resources/12/test-clean.tar.gz 300MB"
   ]
  },
  {
   "cell_type": "code",
   "execution_count": 7,
   "metadata": {},
   "outputs": [
    {
     "name": "stdout",
     "output_type": "stream",
     "text": [
      "data_dh.py\t      image\t\tmain.py\t\t   test_upload.py\n",
      "data.py\t\t      inference_dh.py\tmodels\t\t   tokens.txt\n",
      "Dockerfile\t      inference.py\tREADME.md\t   train_eng_model.py\n",
      "docs\t\t      init_serve.ipynb\trequirements.txt   train.py\n",
      "English-EE-conformer  init_train.ipynb\tserve_model.py\t   util\n",
      "graph.py\t      LICENSE\t\ttest_send_file.py\n"
     ]
    }
   ],
   "source": [
    "!ls"
   ]
  },
  {
   "cell_type": "code",
   "execution_count": null,
   "metadata": {},
   "outputs": [],
   "source": []
  }
 ],
 "metadata": {
  "kernelspec": {
   "display_name": "Python 3 (ipykernel)",
   "language": "python",
   "name": "python3"
  },
  "language_info": {
   "codemirror_mode": {
    "name": "ipython",
    "version": 3
   },
   "file_extension": ".py",
   "mimetype": "text/x-python",
   "name": "python",
   "nbconvert_exporter": "python",
   "pygments_lexer": "ipython3",
   "version": "3.10.11"
  }
 },
 "nbformat": 4,
 "nbformat_minor": 4
}
