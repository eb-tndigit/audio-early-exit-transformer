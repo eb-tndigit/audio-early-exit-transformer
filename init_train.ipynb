{
 "cells": [
  {
   "cell_type": "code",
   "execution_count": 1,
   "metadata": {},
   "outputs": [],
   "source": [
    "import digitalhub as dh\n",
    "\n",
    "project = dh.get_or_create_project(\"td733-demo-early-exit-eng\")"
   ]
  },
  {
   "cell_type": "code",
   "execution_count": 4,
   "metadata": {},
   "outputs": [],
   "source": [
    "train_fn = project.new_function(name=\"train-eng-function\",\n",
    "                                kind=\"python\",\n",
    "                                python_version=\"PYTHON3_10\",\n",
    "                                code_src=\"git+https://github.com/eb-tndigit/audio-early-exit-transformer.git\",\n",
    "                                handler=\"train_eng_model:dh_train\",\n",
    "                                requirements=[\"torch==2.5.0\", \"torchaudio==2.5.0\", \"tensorboard==2.18.0\", \"flashlight==0.1.1\", \"flashlight-text==0.0.7\", \"sentencepiece==0.2.0\",\n",
    "                                              \"soundfile==0.12.1\", \"editdistance==0.8.1\"])"
   ]
  },
  {
   "cell_type": "code",
   "execution_count": 5,
   "metadata": {},
   "outputs": [
    {
     "data": {
      "text/plain": [
       "{'kind': 'python+run', 'metadata': {'project': 'td733-demo-early-exit-eng', 'name': '0600c4d0a0b44a9aababd3962a683744', 'created': '2025-08-14T12:23:46.155Z', 'updated': '2025-08-14T12:23:46.176Z', 'created_by': 'emanuele.boscari@tndigit.it', 'updated_by': 'emanuele.boscari@tndigit.it', 'relationships': [{'type': 'run_of', 'dest': 'store://td733-demo-early-exit-eng/function/python/train-eng-function:c250b59555514a16bb58db066945b725'}]}, 'spec': {'task': 'python+job://td733-demo-early-exit-eng/d1892827d10a4d2380787301ef8884c5', 'local_execution': False, 'function': 'python://td733-demo-early-exit-eng/train-eng-function:c250b59555514a16bb58db066945b725', 'volumes': [{'volume_type': 'persistent_volume_claim', 'name': 'early-exit-demo-shared', 'mount_path': '/shared', 'spec': {'size': '20Gi'}}, {'volume_type': 'persistent_volume_claim', 'name': 'early-exit-demo-data', 'mount_path': '/data', 'spec': {'size': '20Gi'}}], 'resources': {'cpu': {'limits': '4'}, 'mem': {'limits': '24Gi'}, 'gpu': {'requests': '1', 'limits': '1'}}, 'tolerations': [{'key': 'nvidia.com/gpu', 'operator': 'Equal', 'value': 'h100', 'effect': 'NoSchedule'}], 'source': {'source': 'git+https://github.com/eb-tndigit/audio-early-exit-transformer.git', 'handler': 'train_eng_model:dh_train', 'lang': 'python'}, 'python_version': 'PYTHON3_10', 'requirements': ['torch==2.5.0', 'torchaudio==2.5.0', 'tensorboard==2.18.0', 'flashlight==0.1.1', 'flashlight-text==0.0.7', 'sentencepiece==0.2.0', 'soundfile==0.12.1', 'editdistance==0.8.1'], 'inputs': {}, 'parameters': {'librispeech_train_dataset': 'train-clean-100', 'num_epochs': 10, 'model_name': 'early-exit-eng-model', 'base_dir': '/shared/'}, 'init_parameters': {}}, 'status': {'state': 'READY', 'transitions': [{'status': 'READY', 'time': '2025-08-14T12:23:46.17621582Z'}, {'status': 'BUILT', 'time': '2025-08-14T12:23:46.159635693Z'}], 'metrics': {}}, 'user': 'emanuele.boscari@tndigit.it', 'project': 'td733-demo-early-exit-eng', 'id': '0600c4d0a0b44a9aababd3962a683744', 'name': '0600c4d0a0b44a9aababd3962a683744', 'key': 'store://td733-demo-early-exit-eng/run/python+run/0600c4d0a0b44a9aababd3962a683744'}"
      ]
     },
     "execution_count": 5,
     "metadata": {},
     "output_type": "execute_result"
    }
   ],
   "source": [
    "train_fn.run(action=\"job\", \n",
    "             resources = { \"cpu\": { \"limits\": \"4\"  },  \"mem\" : { \"limits\": \"24Gi\" }, \n",
    "                          \"gpu\": { \"requests\": \"1\", \"limits\": \"1\"  }},\n",
    "             tolerations = [{\"key\": \"nvidia.com/gpu\", \"operator\": \"Equal\", \n",
    "                             \"value\": \"h100\", \"effect\": \"NoSchedule\"}],           \n",
    "             parameters={\"librispeech_train_dataset\": \"train-clean-100\", \n",
    "                         \"num_epochs\": 10, \n",
    "                         \"model_name\": \"early-exit-eng-model\", \n",
    "                         \"base_dir\": \"/shared/\"},\n",
    "            # HERE: perché sono necessary i volumes?\n",
    "             volumes=[\n",
    "                {\n",
    "                    \"volume_type\": \"persistent_volume_claim\", \n",
    "                    \"name\": \"early-exit-demo-shared\", \n",
    "                    \"mount_path\": \"/shared\", # HERE: perché lo monta in shared?\n",
    "                    \"spec\": { \"claim_name\": \"early-exit-demo-shared\",  \"size\": \"20Gi\" }\n",
    "                },\n",
    "                {\n",
    "                    \"volume_type\": \"persistent_volume_claim\", \n",
    "                    \"name\": \"early-exit-demo-data\", \n",
    "                    \"mount_path\": \"/data\", \n",
    "                    \"spec\": { \"claim_name\": \"early-exit-demo-data\",  \"size\": \"20Gi\" }\n",
    "                },\n",
    "            ])\n",
    "# aggiunto size a 30GB dentro a spec per 0.11\n",
    "# Questo per shared\n",
    "# https://www.openslr.org/resources/12/train-clean-100.tar.gz questo sono 6,9GB\n",
    "# Questo per data\n",
    "# https://www.openslr.org/resources/12/test-clean.tar.gz 300MB"
   ]
  },
  {
   "cell_type": "code",
   "execution_count": null,
   "metadata": {},
   "outputs": [],
   "source": []
  }
 ],
 "metadata": {
  "kernelspec": {
   "display_name": "Python 3 (ipykernel)",
   "language": "python",
   "name": "python3"
  },
  "language_info": {
   "codemirror_mode": {
    "name": "ipython",
    "version": 3
   },
   "file_extension": ".py",
   "mimetype": "text/x-python",
   "name": "python",
   "nbconvert_exporter": "python",
   "pygments_lexer": "ipython3",
   "version": "3.10.11"
  }
 },
 "nbformat": 4,
 "nbformat_minor": 4
}
