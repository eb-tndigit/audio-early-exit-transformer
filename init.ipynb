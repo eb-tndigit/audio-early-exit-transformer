{
 "cells": [
  {
   "cell_type": "code",
   "execution_count": null,
   "metadata": {},
   "outputs": [],
   "source": [
    "import digitalhub as dh\n",
    "\n",
    "project = dh.get_or_create_project(\"demo-early-exit-eng\")"
   ]
  },
  {
   "cell_type": "code",
   "execution_count": null,
   "metadata": {},
   "outputs": [],
   "source": [
    "project.log_model(\n",
    "        name=\"early-exit-eng-model\",\n",
    "        kind=\"model\",\n",
    "        source=\"./trained_model/mod032-transformer\",\n",
    "        algorithm=\"early-exit\",\n",
    "        framework=\"pythorch\"\n",
    "    )"
   ]
  }
 ],
 "metadata": {
  "language_info": {
   "name": "python"
  }
 },
 "nbformat": 4,
 "nbformat_minor": 2
}
