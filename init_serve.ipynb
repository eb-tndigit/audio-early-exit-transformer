{
 "cells": [
  {
   "cell_type": "code",
   "execution_count": null,
   "metadata": {},
   "outputs": [],
   "source": [
    "import digitalhub as dh\n",
    "\n",
    "project = dh.get_or_create_project(\"demo-early-exit-eng\")"
   ]
  },
  {
   "cell_type": "code",
   "execution_count": null,
   "metadata": {},
   "outputs": [],
   "source": [
    "project.log_model(\n",
    "    name=\"early-exit-model\",\n",
    "    kind=\"model\",\n",
    "    source=\"/home/user/trained_model/mod032-transformer\",\n",
    "    algorithm=\"early-exit\",\n",
    "    framework=\"pythorch\"\n",
    ")"
   ]
  },
  {
   "cell_type": "code",
   "execution_count": null,
   "metadata": {},
   "outputs": [],
   "source": [
    "project.log_artifact(\n",
    "    name=\"lexicon.lex\",\n",
    "    kind=\"artifact\",\n",
    "    source=\"/home/user/upload/lexicon.lex\"\n",
    ")"
   ]
  },
  {
   "cell_type": "code",
   "execution_count": null,
   "metadata": {},
   "outputs": [],
   "source": [
    "project.log_artifact(\n",
    "    name=\"bpe-256.model\",\n",
    "    kind=\"artifact\",\n",
    "    source=\"/home/user/upload/bpe-256.model\"\n",
    ")"
   ]
  },
  {
   "cell_type": "code",
   "execution_count": null,
   "metadata": {},
   "outputs": [],
   "source": [
    "project.log_artifact(\n",
    "    name=\"bpe-256.lex\",\n",
    "    kind=\"artifact\",\n",
    "    source=\"/home/user/upload/bpe-256.lex\"\n",
    ")"
   ]
  },
  {
   "cell_type": "code",
   "execution_count": null,
   "metadata": {},
   "outputs": [],
   "source": [
    "project.log_artifact(\n",
    "    name=\"bpe-256.tok\",\n",
    "    kind=\"artifact\",\n",
    "    source=\"/home/user/upload/bpe-256.tok\"\n",
    ")"
   ]
  },
  {
   "cell_type": "code",
   "execution_count": null,
   "metadata": {},
   "outputs": [],
   "source": [
    "func = project.new_function(name=\"serve_function\",\n",
    "                            kind=\"python\",\n",
    "                            python_version=\"PYTHON3_10\",\n",
    "                            code_src=\"git+https://github.com/tn-aixpa/audio-early-exit-transformer\",\n",
    "                            handler=\"serve_model:serve_multipart\",\n",
    "                            init_function=\"init\",\n",
    "                            requirements=[\"torch==2.5.0\", \"torchaudio==2.5.0\", \"tensorboard==2.18.0\",\n",
    "                                \"flashlight==0.1.1\", \"flashlight-text==0.0.7\", \"sentencepiece==0.2.0\",\n",
    "                                \"soundfile==0.12.1\", \"editdistance==0.8.1\", \"multipart==1.2.1\"])"
   ]
  },
  {
   "cell_type": "code",
   "execution_count": null,
   "metadata": {},
   "outputs": [],
   "source": [
    "run = func.run(\n",
    "    action=\"serve\",\n",
    "    profile=\"1xa100\",\n",
    "    resources = {\"mem\":{\"requests\": \"1Gi\",}},\n",
    "    init_parameters = {\n",
    "        \"model_name\":\"early-exit-model\",\n",
    "        \"lexicon\":\"lexicon.lex\",\n",
    "        \"sp_model\":\"bpe-256.model\",\n",
    "        \"sp_lexicon\":\"bpe-256.lex\",\n",
    "        \"sp_tokens\":\"bpe-256.tok\"\n",
    "    },    \n",
    "    volumes=[\n",
    "        {\n",
    "            \"volume_type\": \"persistent_volume_claim\",\n",
    "            \"name\": \"early-exit-demo-serve\",\n",
    "            \"mount_path\": \"/data\",\n",
    "            \"spec\": { \"size\": \"5Gi\" }        \n",
    "        }\n",
    "    ]\n",
    ")"
   ]
  },
  {
   "cell_type": "code",
   "execution_count": null,
   "metadata": {},
   "outputs": [],
   "source": [
    "project.log_artifact(\n",
    "    name=\"test-audio-eng.wav\",\n",
    "    kind=\"artifact\",\n",
    "    source=\"/home/user/upload/test-audio-eng.wav\"\n",
    ")"
   ]
  },
  {
   "cell_type": "code",
   "execution_count": null,
   "metadata": {},
   "outputs": [],
   "source": [
    "run.refresh()\n",
    "file_path = \"/home/user/upload/test-audio-eng.wav\"\n",
    "with open(file_path, \"rb\") as file:\n",
    "    files = {'file': file}\n",
    "    response = run.invoke(method=\"POST\", files=files)\n",
    "    print(response.status_code)\n",
    "    print(response.text)"
   ]
  },
  {
   "cell_type": "code",
   "execution_count": null,
   "metadata": {},
   "outputs": [],
   "source": [
    "#run.refresh()\n",
    "#json = {\"name\": \"test-audio-eng.wav\"}\n",
    "#response = run.invoke(method=\"POST\", json=json)\n",
    "#print(response.json())"
   ]
  },
  {
   "cell_type": "code",
   "execution_count": null,
   "metadata": {},
   "outputs": [],
   "source": [
    "#function = project.new_function(\n",
    "#    kind='container',\n",
    "#    name='serve_eng_function',\n",
    "#    image=\"ghcr.io/tn-aixpa/audio-early-exit-eng:0.1\",\n",
    "#    args=[\"early-exit-eng-model\"]\n",
    "#)"
   ]
  },
  {
   "cell_type": "code",
   "execution_count": null,
   "metadata": {},
   "outputs": [],
   "source": [
    "#run = function.run(\n",
    "#    action=\"serve\",\n",
    "#    profile=\"1xa100\",\n",
    "#    fs_group=100,\n",
    "#    service_ports = [\n",
    "#        {\n",
    "#            \"port\": 8051,\n",
    "#            \"target_port\": 8051\n",
    "#        }\n",
    "#    ],\n",
    "#    volumes=[\n",
    "#        {\n",
    "#            \"volume_type\": \"persistent_volume_claim\",\n",
    "#            \"name\": \"early-exit-demo-serve\",\n",
    "#            \"mount_path\": \"/data\",\n",
    "#            \"spec\": {\n",
    "#                \"claim_name\": \"early-exit-demo-serve\"\n",
    "#            }\n",
    "#        }\n",
    "#    ]\n",
    "#)"
   ]
  }
 ],
 "metadata": {
  "language_info": {
   "name": "python"
  }
 },
 "nbformat": 4,
 "nbformat_minor": 2
}
