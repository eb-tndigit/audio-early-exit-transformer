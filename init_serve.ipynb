{
 "cells": [
  {
   "cell_type": "code",
   "execution_count": 1,
   "metadata": {},
   "outputs": [],
   "source": [
    "import digitalhub as dh\n",
    "\n",
    "project = dh.get_or_create_project(\"td733-demo-early-exit-eng\")"
   ]
  },
  {
   "cell_type": "code",
   "execution_count": 2,
   "metadata": {},
   "outputs": [
    {
     "name": "stdout",
     "output_type": "stream",
     "text": [
      "Cloning into 'English-EE-conformer'...\n",
      "remote: Enumerating objects: 45, done.\u001b[K\n",
      "remote: Counting objects: 100% (42/42), done.\u001b[K\n",
      "remote: Compressing objects: 100% (41/41), done.\u001b[K\n",
      "remote: Total 45 (delta 19), reused 0 (delta 0), pack-reused 3 (from 1)\u001b[K\n",
      "Unpacking objects: 100% (45/45), 811.79 KiB | 1.03 MiB/s, done.\n"
     ]
    }
   ],
   "source": [
    "!git clone https://huggingface.co/SpeechTek/English-EE-conformer\n",
    "# if you are using the above you need to manually download the .model file and the english-EE-conformer\n",
    "# cause they are tagged with LFS and in the workspace there is not the "
   ]
  },
  {
   "cell_type": "code",
   "execution_count": 2,
   "metadata": {},
   "outputs": [
    {
     "data": {
      "text/plain": [
       "'/home/emanueleboscari/audio-early-exit-transformer'"
      ]
     },
     "execution_count": 2,
     "metadata": {},
     "output_type": "execute_result"
    }
   ],
   "source": [
    "import os\n",
    "BASE_DIR = os.getcwd()\n",
    "BASE_DIR"
   ]
  },
  {
   "cell_type": "markdown",
   "metadata": {
    "jp-MarkdownHeadingCollapsed": true
   },
   "source": [
    "### LOG CONTENTS (not needed if you already did)"
   ]
  },
  {
   "cell_type": "code",
   "execution_count": 6,
   "metadata": {},
   "outputs": [
    {
     "data": {
      "text/plain": [
       "{'kind': 'model', 'metadata': {'project': 'td733-demo-early-exit-eng', 'name': 'early-exit-model', 'version': '82db0c66af9b42c48aa724babb6ad422', 'created': '2025-07-21T13:26:15.046Z', 'updated': '2025-07-21T13:26:17.261Z', 'created_by': 'emanuele.boscari@tndigit.it', 'updated_by': 'emanuele.boscari@tndigit.it', 'embedded': False}, 'spec': {'path': 's3://datalake/td733-demo-early-exit-eng/artifact/early-exit-model/82db0c66af9b42c48aa724babb6ad422/english-EE-conformer', 'framework': 'pytorch', 'algorithm': 'early-exit', 'parameters': {}}, 'status': {'state': 'READY', 'files': [{'path': 'english-EE-conformer', 'name': 'english-EE-conformer', 'content_type': 'binary/octet-stream', 'size': 128397278, 'hash': 'ETag:06a985e0aa3a6d78a78fd7ea6f0de123-16', 'last_modified': '2025-07-21T13:26:17+00:00'}], 'metrics': {}}, 'user': 'emanuele.boscari@tndigit.it', 'project': 'td733-demo-early-exit-eng', 'name': 'early-exit-model', 'id': '82db0c66af9b42c48aa724babb6ad422', 'key': 'store://td733-demo-early-exit-eng/model/model/early-exit-model:82db0c66af9b42c48aa724babb6ad422'}"
      ]
     },
     "execution_count": 6,
     "metadata": {},
     "output_type": "execute_result"
    }
   ],
   "source": [
    "project.log_model(\n",
    "    name=\"early-exit-model\",\n",
    "    kind=\"model\",\n",
    "    source=f\"{BASE_DIR}/English-EE-conformer/english-EE-conformer\",\n",
    "    algorithm=\"early-exit\",\n",
    "    framework=\"pytorch\"\n",
    ")"
   ]
  },
  {
   "cell_type": "code",
   "execution_count": 7,
   "metadata": {},
   "outputs": [
    {
     "data": {
      "text/plain": [
       "{'kind': 'artifact', 'metadata': {'project': 'td733-demo-early-exit-eng', 'name': 'bpe-256.model', 'version': '87078197f3eb408f83385a3d4010c2bd', 'created': '2025-07-21T13:26:18.296Z', 'updated': '2025-07-21T13:26:18.472Z', 'created_by': 'emanuele.boscari@tndigit.it', 'updated_by': 'emanuele.boscari@tndigit.it', 'embedded': False}, 'spec': {'path': 's3://datalake/td733-demo-early-exit-eng/artifact/bpe-256.model/87078197f3eb408f83385a3d4010c2bd/bpe-256.model'}, 'status': {'state': 'READY', 'files': [{'path': 'bpe-256.model', 'name': 'bpe-256.model', 'content_type': 'binary/octet-stream', 'size': 240971, 'hash': 'md5:fed21299e603604b97849f1a65eed695', 'last_modified': '2025-07-21T13:26:18+00:00'}]}, 'user': 'emanuele.boscari@tndigit.it', 'project': 'td733-demo-early-exit-eng', 'name': 'bpe-256.model', 'id': '87078197f3eb408f83385a3d4010c2bd', 'key': 'store://td733-demo-early-exit-eng/artifact/artifact/bpe-256.model:87078197f3eb408f83385a3d4010c2bd'}"
      ]
     },
     "execution_count": 7,
     "metadata": {},
     "output_type": "execute_result"
    }
   ],
   "source": [
    "project.log_artifact(\n",
    "    name=\"bpe-256.model\",\n",
    "    kind=\"artifact\",\n",
    "    source=f\"{BASE_DIR}/English-EE-conformer/bpe-256.model\"\n",
    ")"
   ]
  },
  {
   "cell_type": "code",
   "execution_count": 8,
   "metadata": {},
   "outputs": [
    {
     "data": {
      "text/plain": [
       "{'kind': 'artifact', 'metadata': {'project': 'td733-demo-early-exit-eng', 'name': 'bpe-256.lex', 'version': '2ce27a2a40fa4d5b8f7d4a586207b4f7', 'created': '2025-07-21T13:26:19.947Z', 'updated': '2025-07-21T13:26:20.151Z', 'created_by': 'emanuele.boscari@tndigit.it', 'updated_by': 'emanuele.boscari@tndigit.it', 'embedded': False}, 'spec': {'path': 's3://datalake/td733-demo-early-exit-eng/artifact/bpe-256.lex/2ce27a2a40fa4d5b8f7d4a586207b4f7/bpe-256.lex'}, 'status': {'state': 'READY', 'files': [{'path': 'bpe-256.lex', 'name': 'bpe-256.lex', 'content_type': 'binary/octet-stream', 'size': 3066357, 'hash': 'md5:98f2a50b2289f415699401d1c46a88a2', 'last_modified': '2025-07-21T13:26:20+00:00'}]}, 'user': 'emanuele.boscari@tndigit.it', 'project': 'td733-demo-early-exit-eng', 'name': 'bpe-256.lex', 'id': '2ce27a2a40fa4d5b8f7d4a586207b4f7', 'key': 'store://td733-demo-early-exit-eng/artifact/artifact/bpe-256.lex:2ce27a2a40fa4d5b8f7d4a586207b4f7'}"
      ]
     },
     "execution_count": 8,
     "metadata": {},
     "output_type": "execute_result"
    }
   ],
   "source": [
    "project.log_artifact(\n",
    "    name=\"bpe-256.lex\",\n",
    "    kind=\"artifact\",\n",
    "    source=f\"{BASE_DIR}/English-EE-conformer/bpe-256.lex\"\n",
    ")"
   ]
  },
  {
   "cell_type": "code",
   "execution_count": 9,
   "metadata": {},
   "outputs": [
    {
     "data": {
      "text/plain": [
       "{'kind': 'artifact', 'metadata': {'project': 'td733-demo-early-exit-eng', 'name': 'bpe-256.tok', 'version': '64b4e7402c864872a671d45da5681b4c', 'created': '2025-07-21T13:26:22.06Z', 'updated': '2025-07-21T13:26:22.198Z', 'created_by': 'emanuele.boscari@tndigit.it', 'updated_by': 'emanuele.boscari@tndigit.it', 'embedded': False}, 'spec': {'path': 's3://datalake/td733-demo-early-exit-eng/artifact/bpe-256.tok/64b4e7402c864872a671d45da5681b4c/bpe-256.tok'}, 'status': {'state': 'READY', 'files': [{'path': 'bpe-256.tok', 'name': 'bpe-256.tok', 'content_type': 'binary/octet-stream', 'size': 1141, 'hash': 'md5:71b1508ddc66826cbe5beaad8a0ace95', 'last_modified': '2025-07-21T13:26:22+00:00'}]}, 'user': 'emanuele.boscari@tndigit.it', 'project': 'td733-demo-early-exit-eng', 'name': 'bpe-256.tok', 'id': '64b4e7402c864872a671d45da5681b4c', 'key': 'store://td733-demo-early-exit-eng/artifact/artifact/bpe-256.tok:64b4e7402c864872a671d45da5681b4c'}"
      ]
     },
     "execution_count": 9,
     "metadata": {},
     "output_type": "execute_result"
    }
   ],
   "source": [
    "project.log_artifact(\n",
    "    name=\"bpe-256.tok\",\n",
    "    kind=\"artifact\",\n",
    "    source=f\"{BASE_DIR}/English-EE-conformer/bpe-256.tok\"\n",
    ")"
   ]
  },
  {
   "cell_type": "markdown",
   "metadata": {},
   "source": [
    "### REGISTER THE FUNCTION"
   ]
  },
  {
   "cell_type": "code",
   "execution_count": 3,
   "metadata": {},
   "outputs": [],
   "source": [
    "func = project.new_function(\n",
    "    name=\"serve_function\",\n",
    "    kind=\"python\",\n",
    "    python_version=\"PYTHON3_10\",\n",
    "    # TNDIGIT\n",
    "    #code_src=\"git+https://github.com/eb-tndigit/audio-early-exit-transformer\",\n",
    "    # FBK\n",
    "    code_src=\"git+https://github.com/tn-aixpa/audio-early-exit-transformer\",\n",
    "    handler=\"serve_model:serve_multipart\",\n",
    "    init_function=\"init\"\n",
    "    # la parte di requirements è inutile perché di default verranno installate le librerie \n",
    "    # se presente il file requirements.txt all'interno della repo\n",
    ")"
   ]
  },
  {
   "cell_type": "markdown",
   "metadata": {
    "jp-MarkdownHeadingCollapsed": true
   },
   "source": [
    "### BUILD PART (only needed in the beginning)"
   ]
  },
  {
   "cell_type": "code",
   "execution_count": null,
   "metadata": {},
   "outputs": [],
   "source": [
    "resources = {\n",
    "    \"mem\": {\n",
    "        # \"requests\": \"1\",\n",
    "        \"limits\": \"32Gi\",\n",
    "    },\n",
    "    \"cpu\": {\n",
    "        # \"requests\": \"1\",\n",
    "        \"limits\": \"6\"\n",
    "    }\n",
    "}"
   ]
  },
  {
   "cell_type": "code",
   "execution_count": null,
   "metadata": {},
   "outputs": [
    {
     "name": "stderr",
     "output_type": "stream",
     "text": [
      "2025-06-23 13:54:03,604 - INFO - Waiting for run fb6f75cd16ad4781b681a765ffa27e3e to finish...\n",
      "2025-06-23 13:54:08,622 - INFO - Waiting for run fb6f75cd16ad4781b681a765ffa27e3e to finish...\n",
      "2025-06-23 13:54:13,649 - INFO - Waiting for run fb6f75cd16ad4781b681a765ffa27e3e to finish...\n",
      "2025-06-23 13:54:18,673 - INFO - Waiting for run fb6f75cd16ad4781b681a765ffa27e3e to finish...\n",
      "2025-06-23 13:54:23,696 - INFO - Waiting for run fb6f75cd16ad4781b681a765ffa27e3e to finish...\n",
      "2025-06-23 13:54:28,722 - INFO - Waiting for run fb6f75cd16ad4781b681a765ffa27e3e to finish...\n",
      "2025-06-23 13:54:33,748 - INFO - Waiting for run fb6f75cd16ad4781b681a765ffa27e3e to finish...\n",
      "2025-06-23 13:54:38,779 - INFO - Waiting for run fb6f75cd16ad4781b681a765ffa27e3e to finish...\n",
      "2025-06-23 13:54:43,805 - INFO - Waiting for run fb6f75cd16ad4781b681a765ffa27e3e to finish...\n",
      "2025-06-23 13:54:48,829 - INFO - Waiting for run fb6f75cd16ad4781b681a765ffa27e3e to finish...\n",
      "2025-06-23 13:54:53,856 - INFO - Waiting for run fb6f75cd16ad4781b681a765ffa27e3e to finish...\n",
      "2025-06-23 13:54:58,883 - INFO - Waiting for run fb6f75cd16ad4781b681a765ffa27e3e to finish...\n",
      "2025-06-23 13:55:03,909 - INFO - Waiting for run fb6f75cd16ad4781b681a765ffa27e3e to finish...\n",
      "2025-06-23 13:55:08,937 - INFO - Waiting for run fb6f75cd16ad4781b681a765ffa27e3e to finish...\n",
      "2025-06-23 13:55:13,962 - INFO - Waiting for run fb6f75cd16ad4781b681a765ffa27e3e to finish...\n",
      "2025-06-23 13:55:18,987 - INFO - Waiting for run fb6f75cd16ad4781b681a765ffa27e3e to finish...\n",
      "2025-06-23 13:55:24,014 - INFO - Waiting for run fb6f75cd16ad4781b681a765ffa27e3e to finish...\n",
      "2025-06-23 13:55:29,040 - INFO - Waiting for run fb6f75cd16ad4781b681a765ffa27e3e to finish...\n",
      "2025-06-23 13:55:34,065 - INFO - Waiting for run fb6f75cd16ad4781b681a765ffa27e3e to finish...\n",
      "2025-06-23 13:55:39,090 - INFO - Waiting for run fb6f75cd16ad4781b681a765ffa27e3e to finish...\n",
      "2025-06-23 13:55:44,114 - INFO - Waiting for run fb6f75cd16ad4781b681a765ffa27e3e to finish...\n",
      "2025-06-23 13:55:49,139 - INFO - Waiting for run fb6f75cd16ad4781b681a765ffa27e3e to finish...\n",
      "2025-06-23 13:55:54,165 - INFO - Waiting for run fb6f75cd16ad4781b681a765ffa27e3e to finish...\n",
      "2025-06-23 13:55:59,193 - INFO - Waiting for run fb6f75cd16ad4781b681a765ffa27e3e to finish...\n",
      "2025-06-23 13:56:04,219 - INFO - Waiting for run fb6f75cd16ad4781b681a765ffa27e3e to finish...\n",
      "2025-06-23 13:56:09,242 - INFO - Waiting for run fb6f75cd16ad4781b681a765ffa27e3e to finish...\n",
      "2025-06-23 13:56:14,268 - INFO - Waiting for run fb6f75cd16ad4781b681a765ffa27e3e to finish...\n",
      "2025-06-23 13:56:19,293 - INFO - Waiting for run fb6f75cd16ad4781b681a765ffa27e3e to finish...\n",
      "2025-06-23 13:56:24,317 - INFO - Waiting for run fb6f75cd16ad4781b681a765ffa27e3e to finish...\n",
      "2025-06-23 13:56:29,343 - INFO - Waiting for run fb6f75cd16ad4781b681a765ffa27e3e to finish...\n",
      "2025-06-23 13:56:34,372 - INFO - Waiting for run fb6f75cd16ad4781b681a765ffa27e3e to finish...\n",
      "2025-06-23 13:56:39,398 - INFO - Waiting for run fb6f75cd16ad4781b681a765ffa27e3e to finish...\n",
      "2025-06-23 13:56:44,424 - INFO - Waiting for run fb6f75cd16ad4781b681a765ffa27e3e to finish...\n",
      "2025-06-23 13:56:49,449 - INFO - Waiting for run fb6f75cd16ad4781b681a765ffa27e3e to finish...\n",
      "2025-06-23 13:56:54,472 - INFO - Waiting for run fb6f75cd16ad4781b681a765ffa27e3e to finish...\n",
      "2025-06-23 13:56:59,498 - INFO - Waiting for run fb6f75cd16ad4781b681a765ffa27e3e to finish...\n",
      "2025-06-23 13:57:04,524 - INFO - Waiting for run fb6f75cd16ad4781b681a765ffa27e3e to finish...\n",
      "2025-06-23 13:57:09,550 - INFO - Waiting for run fb6f75cd16ad4781b681a765ffa27e3e to finish...\n",
      "2025-06-23 13:57:14,577 - INFO - Waiting for run fb6f75cd16ad4781b681a765ffa27e3e to finish...\n",
      "2025-06-23 13:57:19,604 - INFO - Waiting for run fb6f75cd16ad4781b681a765ffa27e3e to finish...\n",
      "2025-06-23 13:57:24,631 - INFO - Waiting for run fb6f75cd16ad4781b681a765ffa27e3e to finish...\n",
      "2025-06-23 13:57:29,656 - INFO - Waiting for run fb6f75cd16ad4781b681a765ffa27e3e to finish...\n",
      "2025-06-23 13:57:34,682 - INFO - Waiting for run fb6f75cd16ad4781b681a765ffa27e3e to finish...\n",
      "2025-06-23 13:57:39,707 - INFO - Waiting for run fb6f75cd16ad4781b681a765ffa27e3e to finish...\n",
      "2025-06-23 13:57:44,732 - INFO - Waiting for run fb6f75cd16ad4781b681a765ffa27e3e to finish...\n",
      "2025-06-23 13:57:49,757 - INFO - Waiting for run fb6f75cd16ad4781b681a765ffa27e3e to finish...\n",
      "2025-06-23 13:57:54,785 - INFO - Waiting for run fb6f75cd16ad4781b681a765ffa27e3e to finish...\n",
      "2025-06-23 13:57:59,810 - INFO - Waiting for run fb6f75cd16ad4781b681a765ffa27e3e to finish...\n",
      "2025-06-23 13:58:04,837 - INFO - Waiting for run fb6f75cd16ad4781b681a765ffa27e3e to finish...\n",
      "2025-06-23 13:58:09,861 - INFO - Waiting for run fb6f75cd16ad4781b681a765ffa27e3e to finish...\n",
      "2025-06-23 13:58:14,885 - INFO - Waiting for run fb6f75cd16ad4781b681a765ffa27e3e to finish...\n",
      "2025-06-23 13:58:19,910 - INFO - Waiting for run fb6f75cd16ad4781b681a765ffa27e3e to finish...\n",
      "2025-06-23 13:58:24,933 - INFO - Waiting for run fb6f75cd16ad4781b681a765ffa27e3e to finish...\n",
      "2025-06-23 13:58:29,956 - INFO - Waiting for run fb6f75cd16ad4781b681a765ffa27e3e to finish...\n",
      "2025-06-23 13:58:34,981 - INFO - Waiting for run fb6f75cd16ad4781b681a765ffa27e3e to finish...\n",
      "2025-06-23 13:58:40,005 - INFO - Waiting for run fb6f75cd16ad4781b681a765ffa27e3e to finish...\n",
      "2025-06-23 13:58:45,030 - INFO - Waiting for run fb6f75cd16ad4781b681a765ffa27e3e to finish...\n",
      "2025-06-23 13:58:50,052 - INFO - Waiting for run fb6f75cd16ad4781b681a765ffa27e3e to finish...\n",
      "2025-06-23 13:58:55,078 - INFO - Waiting for run fb6f75cd16ad4781b681a765ffa27e3e to finish...\n",
      "2025-06-23 13:59:00,102 - INFO - Waiting for run fb6f75cd16ad4781b681a765ffa27e3e to finish...\n",
      "2025-06-23 13:59:05,126 - INFO - Waiting for run fb6f75cd16ad4781b681a765ffa27e3e to finish...\n",
      "2025-06-23 13:59:10,151 - INFO - Waiting for run fb6f75cd16ad4781b681a765ffa27e3e to finish...\n",
      "2025-06-23 13:59:15,176 - INFO - Waiting for run fb6f75cd16ad4781b681a765ffa27e3e to finish...\n",
      "2025-06-23 13:59:20,204 - INFO - Waiting for run fb6f75cd16ad4781b681a765ffa27e3e to finish...\n",
      "2025-06-23 13:59:25,230 - INFO - Waiting for run fb6f75cd16ad4781b681a765ffa27e3e to finish...\n",
      "2025-06-23 13:59:30,254 - INFO - Waiting for run fb6f75cd16ad4781b681a765ffa27e3e to finish...\n",
      "2025-06-23 13:59:35,280 - INFO - Waiting for run fb6f75cd16ad4781b681a765ffa27e3e to finish...\n",
      "2025-06-23 13:59:40,306 - INFO - Waiting for run fb6f75cd16ad4781b681a765ffa27e3e to finish...\n",
      "2025-06-23 13:59:45,332 - INFO - Waiting for run fb6f75cd16ad4781b681a765ffa27e3e to finish...\n",
      "2025-06-23 13:59:50,571 - INFO - Waiting for run fb6f75cd16ad4781b681a765ffa27e3e to finish...\n",
      "2025-06-23 13:59:55,603 - INFO - Waiting for run fb6f75cd16ad4781b681a765ffa27e3e to finish...\n",
      "2025-06-23 14:00:00,626 - INFO - Waiting for run fb6f75cd16ad4781b681a765ffa27e3e to finish...\n",
      "2025-06-23 14:00:05,651 - INFO - Waiting for run fb6f75cd16ad4781b681a765ffa27e3e to finish...\n",
      "2025-06-23 14:00:10,675 - INFO - Waiting for run fb6f75cd16ad4781b681a765ffa27e3e to finish...\n",
      "2025-06-23 14:00:15,700 - INFO - Waiting for run fb6f75cd16ad4781b681a765ffa27e3e to finish...\n",
      "2025-06-23 14:00:20,723 - INFO - Waiting for run fb6f75cd16ad4781b681a765ffa27e3e to finish...\n",
      "2025-06-23 14:00:25,751 - INFO - Waiting for run fb6f75cd16ad4781b681a765ffa27e3e to finish...\n",
      "2025-06-23 14:00:30,775 - INFO - Waiting for run fb6f75cd16ad4781b681a765ffa27e3e to finish...\n",
      "2025-06-23 14:00:35,802 - INFO - Waiting for run fb6f75cd16ad4781b681a765ffa27e3e to finish...\n",
      "2025-06-23 14:00:40,827 - INFO - Waiting for run fb6f75cd16ad4781b681a765ffa27e3e to finish...\n",
      "2025-06-23 14:00:45,853 - INFO - Waiting for run fb6f75cd16ad4781b681a765ffa27e3e to finish...\n",
      "2025-06-23 14:00:50,879 - INFO - Waiting for run fb6f75cd16ad4781b681a765ffa27e3e to finish...\n",
      "2025-06-23 14:00:55,905 - INFO - Waiting for run fb6f75cd16ad4781b681a765ffa27e3e to finish...\n",
      "2025-06-23 14:01:00,931 - INFO - Waiting for run fb6f75cd16ad4781b681a765ffa27e3e to finish...\n",
      "2025-06-23 14:01:05,957 - INFO - Waiting for run fb6f75cd16ad4781b681a765ffa27e3e to finish...\n",
      "2025-06-23 14:01:10,984 - INFO - Waiting for run fb6f75cd16ad4781b681a765ffa27e3e to finish...\n",
      "2025-06-23 14:01:16,010 - INFO - Waiting for run fb6f75cd16ad4781b681a765ffa27e3e to finish...\n",
      "2025-06-23 14:01:21,037 - INFO - Waiting for run fb6f75cd16ad4781b681a765ffa27e3e to finish...\n",
      "2025-06-23 14:01:26,059 - INFO - Waiting for run fb6f75cd16ad4781b681a765ffa27e3e to finish...\n",
      "2025-06-23 14:01:31,084 - INFO - Waiting for run fb6f75cd16ad4781b681a765ffa27e3e to finish...\n",
      "2025-06-23 14:01:36,109 - INFO - Waiting for run fb6f75cd16ad4781b681a765ffa27e3e to finish...\n",
      "2025-06-23 14:01:41,133 - INFO - Waiting for run fb6f75cd16ad4781b681a765ffa27e3e to finish...\n",
      "2025-06-23 14:01:46,157 - INFO - Waiting for run fb6f75cd16ad4781b681a765ffa27e3e to finish...\n",
      "2025-06-23 14:01:51,183 - INFO - Waiting for run fb6f75cd16ad4781b681a765ffa27e3e to finish...\n",
      "2025-06-23 14:01:56,225 - INFO - Waiting for run fb6f75cd16ad4781b681a765ffa27e3e to finish...\n",
      "2025-06-23 14:02:01,264 - INFO - Waiting for run fb6f75cd16ad4781b681a765ffa27e3e to finish...\n",
      "2025-06-23 14:02:06,292 - INFO - Waiting for run fb6f75cd16ad4781b681a765ffa27e3e to finish...\n",
      "2025-06-23 14:02:11,317 - INFO - Waiting for run fb6f75cd16ad4781b681a765ffa27e3e to finish...\n",
      "2025-06-23 14:02:16,343 - INFO - Waiting for run fb6f75cd16ad4781b681a765ffa27e3e to finish...\n",
      "2025-06-23 14:02:21,373 - INFO - Waiting for run fb6f75cd16ad4781b681a765ffa27e3e to finish...\n",
      "2025-06-23 14:02:26,399 - INFO - Waiting for run fb6f75cd16ad4781b681a765ffa27e3e to finish...\n",
      "2025-06-23 14:02:31,425 - INFO - Waiting for run fb6f75cd16ad4781b681a765ffa27e3e to finish...\n",
      "2025-06-23 14:02:36,450 - INFO - Waiting for run fb6f75cd16ad4781b681a765ffa27e3e to finish...\n",
      "2025-06-23 14:02:41,477 - INFO - Waiting for run fb6f75cd16ad4781b681a765ffa27e3e to finish...\n",
      "2025-06-23 14:02:46,501 - INFO - Waiting for run fb6f75cd16ad4781b681a765ffa27e3e to finish...\n",
      "2025-06-23 14:02:51,525 - INFO - Waiting for run fb6f75cd16ad4781b681a765ffa27e3e to finish...\n",
      "2025-06-23 14:02:56,550 - INFO - Waiting for run fb6f75cd16ad4781b681a765ffa27e3e to finish...\n",
      "2025-06-23 14:03:01,574 - INFO - Waiting for run fb6f75cd16ad4781b681a765ffa27e3e to finish...\n",
      "2025-06-23 14:03:06,596 - INFO - Waiting for run fb6f75cd16ad4781b681a765ffa27e3e to finish...\n",
      "2025-06-23 14:03:11,619 - INFO - Waiting for run fb6f75cd16ad4781b681a765ffa27e3e to finish...\n",
      "2025-06-23 14:03:16,643 - INFO - Waiting for run fb6f75cd16ad4781b681a765ffa27e3e to finish...\n",
      "2025-06-23 14:03:21,703 - INFO - Waiting for run fb6f75cd16ad4781b681a765ffa27e3e to finish...\n",
      "2025-06-23 14:03:26,726 - INFO - Waiting for run fb6f75cd16ad4781b681a765ffa27e3e to finish...\n",
      "2025-06-23 14:03:31,752 - INFO - Waiting for run fb6f75cd16ad4781b681a765ffa27e3e to finish...\n",
      "2025-06-23 14:03:36,776 - INFO - Waiting for run fb6f75cd16ad4781b681a765ffa27e3e to finish...\n",
      "2025-06-23 14:03:41,800 - INFO - Waiting for run fb6f75cd16ad4781b681a765ffa27e3e to finish...\n",
      "2025-06-23 14:03:46,823 - INFO - Waiting for run fb6f75cd16ad4781b681a765ffa27e3e to finish...\n",
      "2025-06-23 14:03:51,848 - INFO - Waiting for run fb6f75cd16ad4781b681a765ffa27e3e to finish...\n",
      "2025-06-23 14:03:56,875 - INFO - Waiting for run fb6f75cd16ad4781b681a765ffa27e3e to finish...\n",
      "2025-06-23 14:04:01,900 - INFO - Waiting for run fb6f75cd16ad4781b681a765ffa27e3e to finish...\n",
      "2025-06-23 14:04:06,922 - INFO - Waiting for run fb6f75cd16ad4781b681a765ffa27e3e to finish...\n",
      "2025-06-23 14:04:11,947 - INFO - Waiting for run fb6f75cd16ad4781b681a765ffa27e3e to finish...\n",
      "2025-06-23 14:04:16,971 - INFO - Waiting for run fb6f75cd16ad4781b681a765ffa27e3e to finish...\n",
      "2025-06-23 14:04:21,996 - INFO - Waiting for run fb6f75cd16ad4781b681a765ffa27e3e to finish...\n",
      "2025-06-23 14:04:27,019 - INFO - Waiting for run fb6f75cd16ad4781b681a765ffa27e3e to finish...\n",
      "2025-06-23 14:04:32,083 - INFO - Waiting for run fb6f75cd16ad4781b681a765ffa27e3e to finish...\n",
      "2025-06-23 14:04:37,109 - INFO - Waiting for run fb6f75cd16ad4781b681a765ffa27e3e to finish...\n",
      "2025-06-23 14:04:42,135 - INFO - Waiting for run fb6f75cd16ad4781b681a765ffa27e3e to finish...\n",
      "2025-06-23 14:04:47,161 - INFO - Waiting for run fb6f75cd16ad4781b681a765ffa27e3e to finish...\n",
      "2025-06-23 14:04:52,189 - INFO - Waiting for run fb6f75cd16ad4781b681a765ffa27e3e to finish...\n",
      "2025-06-23 14:04:57,217 - INFO - Waiting for run fb6f75cd16ad4781b681a765ffa27e3e to finish...\n",
      "2025-06-23 14:05:02,241 - INFO - Waiting for run fb6f75cd16ad4781b681a765ffa27e3e to finish...\n",
      "2025-06-23 14:05:07,266 - INFO - Waiting for run fb6f75cd16ad4781b681a765ffa27e3e to finish...\n",
      "2025-06-23 14:05:12,289 - INFO - Waiting for run fb6f75cd16ad4781b681a765ffa27e3e to finish...\n",
      "2025-06-23 14:05:17,313 - INFO - Waiting for run fb6f75cd16ad4781b681a765ffa27e3e to finish...\n",
      "2025-06-23 14:05:22,338 - INFO - Waiting for run fb6f75cd16ad4781b681a765ffa27e3e to finish...\n",
      "2025-06-23 14:05:27,373 - INFO - Waiting for run fb6f75cd16ad4781b681a765ffa27e3e to finish...\n",
      "2025-06-23 14:05:32,399 - INFO - Waiting for run fb6f75cd16ad4781b681a765ffa27e3e to finish...\n",
      "2025-06-23 14:05:37,424 - INFO - Waiting for run fb6f75cd16ad4781b681a765ffa27e3e to finish...\n",
      "2025-06-23 14:05:42,448 - INFO - Waiting for run fb6f75cd16ad4781b681a765ffa27e3e to finish...\n",
      "2025-06-23 14:05:47,473 - INFO - Waiting for run fb6f75cd16ad4781b681a765ffa27e3e to finish...\n",
      "2025-06-23 14:05:52,714 - INFO - Waiting for run fb6f75cd16ad4781b681a765ffa27e3e to finish...\n",
      "2025-06-23 14:05:57,740 - INFO - Waiting for run fb6f75cd16ad4781b681a765ffa27e3e to finish...\n",
      "2025-06-23 14:06:02,765 - INFO - Waiting for run fb6f75cd16ad4781b681a765ffa27e3e to finish...\n",
      "2025-06-23 14:06:07,789 - INFO - Waiting for run fb6f75cd16ad4781b681a765ffa27e3e to finish...\n",
      "2025-06-23 14:06:12,816 - INFO - Waiting for run fb6f75cd16ad4781b681a765ffa27e3e to finish...\n",
      "2025-06-23 14:06:17,839 - INFO - Waiting for run fb6f75cd16ad4781b681a765ffa27e3e to finish...\n",
      "2025-06-23 14:06:22,869 - INFO - Waiting for run fb6f75cd16ad4781b681a765ffa27e3e to finish...\n",
      "2025-06-23 14:06:27,895 - INFO - Waiting for run fb6f75cd16ad4781b681a765ffa27e3e to finish...\n",
      "2025-06-23 14:06:32,924 - INFO - Waiting for run fb6f75cd16ad4781b681a765ffa27e3e to finish...\n",
      "2025-06-23 14:06:37,955 - INFO - Waiting for run fb6f75cd16ad4781b681a765ffa27e3e to finish...\n",
      "2025-06-23 14:06:42,980 - INFO - Waiting for run fb6f75cd16ad4781b681a765ffa27e3e to finish...\n",
      "2025-06-23 14:06:48,006 - INFO - Waiting for run fb6f75cd16ad4781b681a765ffa27e3e to finish...\n",
      "2025-06-23 14:06:53,031 - INFO - Waiting for run fb6f75cd16ad4781b681a765ffa27e3e to finish...\n",
      "2025-06-23 14:06:58,061 - INFO - Waiting for run fb6f75cd16ad4781b681a765ffa27e3e to finish...\n",
      "2025-06-23 14:07:03,087 - INFO - Waiting for run fb6f75cd16ad4781b681a765ffa27e3e to finish...\n",
      "2025-06-23 14:07:08,112 - INFO - Waiting for run fb6f75cd16ad4781b681a765ffa27e3e to finish...\n",
      "2025-06-23 14:07:13,140 - INFO - Waiting for run fb6f75cd16ad4781b681a765ffa27e3e to finish...\n",
      "2025-06-23 14:07:18,168 - INFO - Run fb6f75cd16ad4781b681a765ffa27e3e finished in 794.56 seconds.\n"
     ]
    }
   ],
   "source": [
    "build_image = func.run( \n",
    "    \"build\",\n",
    "    instructions=[\"pip install torch==2.5.0\", \n",
    "                    \"pip install torchaudio==2.5.0\", \n",
    "                    \"pip install tensorboard==2.18.0\", \n",
    "                    \"pip install flashlight==0.1.1\", \n",
    "                    \"pip install flashlight-text==0.0.7\", \n",
    "                    \"pip install sentencepiece==0.2.0\", \n",
    "                    \"pip install soundfile==0.12.1\", \n",
    "                    \"pip install editdistance==0.8.1\", \n",
    "                    \"pip install multipart==1.2.1\"],\n",
    "    resources=resources,\n",
    "    wait=True\n",
    ")"
   ]
  },
  {
   "cell_type": "code",
   "execution_count": 24,
   "metadata": {
    "scrolled": true
   },
   "outputs": [
    {
     "name": "stdout",
     "output_type": "stream",
     "text": [
      "\n",
      "\n",
      " harbor.aixpa.tndigit.it/tenant001-core/digitalhub-tenant001-td733-demo-early-exit-eng-serve_function:fb6f7 \n",
      "\n",
      "\n"
     ]
    }
   ],
   "source": [
    "image = None\n",
    "try:\n",
    "    harbor_image_reference = build_image.status.k8s[\"pods\"][0][\"spec\"][\"containers\"][0][\"args\"][2]\n",
    "    image = harbor_image_reference.split(\"=\")[1]\n",
    "    print(\"\\n\\n\", image, \"\\n\\n\")\n",
    "except Exception as e:\n",
    "    print(e)"
   ]
  },
  {
   "cell_type": "markdown",
   "metadata": {},
   "source": [
    "### RUN PART"
   ]
  },
  {
   "cell_type": "code",
   "execution_count": 4,
   "metadata": {},
   "outputs": [],
   "source": [
    "# in case something is restarted\n",
    "image = \"harbor.aixpa.tndigit.it/tenant001-core/digitalhub-tenant001-td733-demo-early-exit-eng-serve_function:fb6f7\""
   ]
  },
  {
   "cell_type": "code",
   "execution_count": 4,
   "metadata": {},
   "outputs": [
    {
     "name": "stderr",
     "output_type": "stream",
     "text": [
      "2025-08-18 09:36:40,602 - INFO - Waiting for run 0ac0dcd17c044284bc08e13723d4abcc to deploy service.\n",
      "2025-08-18 09:36:45,624 - INFO - Waiting for run 0ac0dcd17c044284bc08e13723d4abcc to deploy service.\n",
      "2025-08-18 09:36:45,644 - INFO - Run 0ac0dcd17c044284bc08e13723d4abcc service deployed.\n"
     ]
    }
   ],
   "source": [
    "run = func.run(\n",
    "    action=\"serve\",\n",
    "    # image = image,\n",
    "    resources = { \"cpu\": { \"limits\": \"4\"  },  \"mem\" : { \"limits\": \"32Gi\" }, \"gpu\": { \"requests\": \"1\", \"limits\": \"1\"  }},\n",
    "    tolerations = [{\"key\": \"nvidia.com/gpu\", \"operator\": \"Equal\", \"value\": \"h100\", \"effect\": \"NoSchedule\"}],\n",
    "    init_parameters = {\n",
    "        \"model_name\":\"early-exit-model\",\n",
    "        \"sp_model\":\"bpe-256.model\",\n",
    "        \"sp_lexicon\":\"bpe-256.lex\",\n",
    "        \"sp_tokens\":\"bpe-256.tok\"\n",
    "    },    \n",
    "    volumes=[\n",
    "        {\n",
    "            \"volume_type\": \"persistent_volume_claim\",\n",
    "            \"name\": \"early-exit-demo-serve\",\n",
    "            \"mount_path\": \"/data\",\n",
    "            \"spec\": { \"size\": \"25Gi\" }        \n",
    "        }\n",
    "    ],\n",
    "    wait = True\n",
    ")"
   ]
  },
  {
   "cell_type": "code",
   "execution_count": 34,
   "metadata": {},
   "outputs": [],
   "source": [
    "#sp_model_artifact = project.get_artifact(\"bpe-256.model\")    \n",
    "#sp_model_path = sp_model_artifact.download(destination=\".\", overwrite=True)"
   ]
  },
  {
   "cell_type": "code",
   "execution_count": 27,
   "metadata": {},
   "outputs": [
    {
     "data": {
      "text/plain": [
       "{'kind': 'artifact', 'metadata': {'project': 'td733-demo-early-exit-eng', 'name': 'test.wav', 'version': 'a2864f70e6114edb9876ba3ace92cffa', 'created': '2025-06-23T14:28:31.368Z', 'updated': '2025-06-23T14:28:32.503Z', 'created_by': 'emanuele.boscari@tndigit.it', 'updated_by': 'emanuele.boscari@tndigit.it', 'embedded': False}, 'spec': {'path': 's3://datalake/td733-demo-early-exit-eng/artifact/test.wav/a2864f70e6114edb9876ba3ace92cffa/test.wav'}, 'status': {'state': 'READY', 'files': [{'path': 'test.wav', 'name': 'test.wav', 'content_type': 'audio/x-wav', 'size': 26935374, 'hash': 'ETag:3e55d3adf4dfa3b399b11aa36ccc5799-4', 'last_modified': '2025-06-23T14:28:32+00:00'}]}, 'user': 'emanuele.boscari@tndigit.it', 'project': 'td733-demo-early-exit-eng', 'name': 'test.wav', 'id': 'a2864f70e6114edb9876ba3ace92cffa', 'key': 'store://td733-demo-early-exit-eng/artifact/artifact/test.wav:a2864f70e6114edb9876ba3ace92cffa'}"
      ]
     },
     "execution_count": 27,
     "metadata": {},
     "output_type": "execute_result"
    }
   ],
   "source": [
    "project.log_artifact(\n",
    "    name=\"test.wav\",\n",
    "    kind=\"artifact\",\n",
    "    source=f\"{BASE_DIR}/test.wav\"\n",
    ")"
   ]
  },
  {
   "cell_type": "code",
   "execution_count": 6,
   "metadata": {},
   "outputs": [
    {
     "name": "stdout",
     "output_type": "stream",
     "text": [
      "500\n",
      "EOF\n"
     ]
    }
   ],
   "source": [
    "run.refresh()\n",
    "file_path = \"test.wav\"\n",
    "with open(file_path, \"rb\") as file:\n",
    "    files = {'file': file}\n",
    "    response = run.invoke(method=\"POST\", files=files)\n",
    "    print(response.status_code)\n",
    "    print(response.text)"
   ]
  },
  {
   "cell_type": "code",
   "execution_count": null,
   "metadata": {},
   "outputs": [],
   "source": [
    "#run.refresh()\n",
    "#json = {\"name\": \"test-audio-eng.wav\"}\n",
    "#response = run.invoke(method=\"POST\", json=json)\n",
    "#print(response.json())"
   ]
  },
  {
   "cell_type": "code",
   "execution_count": null,
   "metadata": {},
   "outputs": [],
   "source": [
    "#function = project.new_function(\n",
    "#    kind='container',\n",
    "#    name='serve_eng_function',\n",
    "#    image=\"ghcr.io/tn-aixpa/audio-early-exit-eng:0.1\",\n",
    "#    args=[\"early-exit-eng-model\"]\n",
    "#)"
   ]
  },
  {
   "cell_type": "code",
   "execution_count": null,
   "metadata": {},
   "outputs": [],
   "source": [
    "#run = function.run(\n",
    "#    action=\"serve\",\n",
    "#    profile=\"1xa100\",\n",
    "#    fs_group=100,\n",
    "#    service_ports = [\n",
    "#        {\n",
    "#            \"port\": 8051,\n",
    "#            \"target_port\": 8051\n",
    "#        }\n",
    "#    ],\n",
    "#    volumes=[\n",
    "#        {\n",
    "#            \"volume_type\": \"persistent_volume_claim\",\n",
    "#            \"name\": \"early-exit-demo-serve\",\n",
    "#            \"mount_path\": \"/data\",\n",
    "#            \"spec\": {\n",
    "#                \"claim_name\": \"early-exit-demo-serve\"\n",
    "#            }\n",
    "#        }\n",
    "#    ]\n",
    "#)"
   ]
  }
 ],
 "metadata": {
  "kernelspec": {
   "display_name": "Python 3 (ipykernel)",
   "language": "python",
   "name": "python3"
  },
  "language_info": {
   "codemirror_mode": {
    "name": "ipython",
    "version": 3
   },
   "file_extension": ".py",
   "mimetype": "text/x-python",
   "name": "python",
   "nbconvert_exporter": "python",
   "pygments_lexer": "ipython3",
   "version": "3.10.11"
  }
 },
 "nbformat": 4,
 "nbformat_minor": 4
}
