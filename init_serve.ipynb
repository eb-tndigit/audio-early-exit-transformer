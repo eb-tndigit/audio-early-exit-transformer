{
 "cells": [
  {
   "cell_type": "code",
   "execution_count": 17,
   "metadata": {},
   "outputs": [],
   "source": [
    "import digitalhub as dh\n",
    "\n",
    "project = dh.get_or_create_project(\"td733-demo-early-exit-eng\")"
   ]
  },
  {
   "cell_type": "markdown",
   "metadata": {
    "jp-MarkdownHeadingCollapsed": true
   },
   "source": [
    "### LOG CONTENTS (not needed if you already did)"
   ]
  },
  {
   "cell_type": "code",
   "execution_count": 2,
   "metadata": {},
   "outputs": [
    {
     "data": {
      "text/plain": [
       "'/home/emanueleboscari/audio-early-exit-transformer'"
      ]
     },
     "execution_count": 2,
     "metadata": {},
     "output_type": "execute_result"
    }
   ],
   "source": [
    "import os\n",
    "BASE_DIR = os.getcwd()\n",
    "BASE_DIR"
   ]
  },
  {
   "cell_type": "code",
   "execution_count": 2,
   "metadata": {},
   "outputs": [
    {
     "name": "stdout",
     "output_type": "stream",
     "text": [
      "Cloning into 'English-EE-conformer'...\n",
      "remote: Enumerating objects: 45, done.\u001b[K\n",
      "remote: Counting objects: 100% (42/42), done.\u001b[K\n",
      "remote: Compressing objects: 100% (41/41), done.\u001b[K\n",
      "remote: Total 45 (delta 19), reused 0 (delta 0), pack-reused 3 (from 1)\u001b[K\n",
      "Unpacking objects: 100% (45/45), 811.79 KiB | 1.03 MiB/s, done.\n"
     ]
    }
   ],
   "source": [
    "!git clone https://huggingface.co/SpeechTek/English-EE-conformer\n",
    "# if you are using the above you need to manually download the .model file and the english-EE-conformer\n",
    "# cause they are tagged with LFS and in the workspace there is not the "
   ]
  },
  {
   "cell_type": "code",
   "execution_count": 6,
   "metadata": {},
   "outputs": [
    {
     "data": {
      "text/plain": [
       "{'kind': 'model', 'metadata': {'project': 'td733-demo-early-exit-eng', 'name': 'early-exit-model', 'version': '82db0c66af9b42c48aa724babb6ad422', 'created': '2025-07-21T13:26:15.046Z', 'updated': '2025-07-21T13:26:17.261Z', 'created_by': 'emanuele.boscari@tndigit.it', 'updated_by': 'emanuele.boscari@tndigit.it', 'embedded': False}, 'spec': {'path': 's3://datalake/td733-demo-early-exit-eng/artifact/early-exit-model/82db0c66af9b42c48aa724babb6ad422/english-EE-conformer', 'framework': 'pytorch', 'algorithm': 'early-exit', 'parameters': {}}, 'status': {'state': 'READY', 'files': [{'path': 'english-EE-conformer', 'name': 'english-EE-conformer', 'content_type': 'binary/octet-stream', 'size': 128397278, 'hash': 'ETag:06a985e0aa3a6d78a78fd7ea6f0de123-16', 'last_modified': '2025-07-21T13:26:17+00:00'}], 'metrics': {}}, 'user': 'emanuele.boscari@tndigit.it', 'project': 'td733-demo-early-exit-eng', 'name': 'early-exit-model', 'id': '82db0c66af9b42c48aa724babb6ad422', 'key': 'store://td733-demo-early-exit-eng/model/model/early-exit-model:82db0c66af9b42c48aa724babb6ad422'}"
      ]
     },
     "execution_count": 6,
     "metadata": {},
     "output_type": "execute_result"
    }
   ],
   "source": [
    "project.log_model(\n",
    "    name=\"early-exit-model\",\n",
    "    kind=\"model\",\n",
    "    source=f\"{BASE_DIR}/English-EE-conformer/english-EE-conformer\",\n",
    "    algorithm=\"early-exit\",\n",
    "    framework=\"pytorch\"\n",
    ")"
   ]
  },
  {
   "cell_type": "code",
   "execution_count": 7,
   "metadata": {},
   "outputs": [
    {
     "data": {
      "text/plain": [
       "{'kind': 'artifact', 'metadata': {'project': 'td733-demo-early-exit-eng', 'name': 'bpe-256.model', 'version': '87078197f3eb408f83385a3d4010c2bd', 'created': '2025-07-21T13:26:18.296Z', 'updated': '2025-07-21T13:26:18.472Z', 'created_by': 'emanuele.boscari@tndigit.it', 'updated_by': 'emanuele.boscari@tndigit.it', 'embedded': False}, 'spec': {'path': 's3://datalake/td733-demo-early-exit-eng/artifact/bpe-256.model/87078197f3eb408f83385a3d4010c2bd/bpe-256.model'}, 'status': {'state': 'READY', 'files': [{'path': 'bpe-256.model', 'name': 'bpe-256.model', 'content_type': 'binary/octet-stream', 'size': 240971, 'hash': 'md5:fed21299e603604b97849f1a65eed695', 'last_modified': '2025-07-21T13:26:18+00:00'}]}, 'user': 'emanuele.boscari@tndigit.it', 'project': 'td733-demo-early-exit-eng', 'name': 'bpe-256.model', 'id': '87078197f3eb408f83385a3d4010c2bd', 'key': 'store://td733-demo-early-exit-eng/artifact/artifact/bpe-256.model:87078197f3eb408f83385a3d4010c2bd'}"
      ]
     },
     "execution_count": 7,
     "metadata": {},
     "output_type": "execute_result"
    }
   ],
   "source": [
    "project.log_artifact(\n",
    "    name=\"bpe-256.model\",\n",
    "    kind=\"artifact\",\n",
    "    source=f\"{BASE_DIR}/English-EE-conformer/bpe-256.model\"\n",
    ")"
   ]
  },
  {
   "cell_type": "code",
   "execution_count": 8,
   "metadata": {},
   "outputs": [
    {
     "data": {
      "text/plain": [
       "{'kind': 'artifact', 'metadata': {'project': 'td733-demo-early-exit-eng', 'name': 'bpe-256.lex', 'version': '2ce27a2a40fa4d5b8f7d4a586207b4f7', 'created': '2025-07-21T13:26:19.947Z', 'updated': '2025-07-21T13:26:20.151Z', 'created_by': 'emanuele.boscari@tndigit.it', 'updated_by': 'emanuele.boscari@tndigit.it', 'embedded': False}, 'spec': {'path': 's3://datalake/td733-demo-early-exit-eng/artifact/bpe-256.lex/2ce27a2a40fa4d5b8f7d4a586207b4f7/bpe-256.lex'}, 'status': {'state': 'READY', 'files': [{'path': 'bpe-256.lex', 'name': 'bpe-256.lex', 'content_type': 'binary/octet-stream', 'size': 3066357, 'hash': 'md5:98f2a50b2289f415699401d1c46a88a2', 'last_modified': '2025-07-21T13:26:20+00:00'}]}, 'user': 'emanuele.boscari@tndigit.it', 'project': 'td733-demo-early-exit-eng', 'name': 'bpe-256.lex', 'id': '2ce27a2a40fa4d5b8f7d4a586207b4f7', 'key': 'store://td733-demo-early-exit-eng/artifact/artifact/bpe-256.lex:2ce27a2a40fa4d5b8f7d4a586207b4f7'}"
      ]
     },
     "execution_count": 8,
     "metadata": {},
     "output_type": "execute_result"
    }
   ],
   "source": [
    "project.log_artifact(\n",
    "    name=\"bpe-256.lex\",\n",
    "    kind=\"artifact\",\n",
    "    source=f\"{BASE_DIR}/English-EE-conformer/bpe-256.lex\"\n",
    ")"
   ]
  },
  {
   "cell_type": "code",
   "execution_count": 9,
   "metadata": {},
   "outputs": [
    {
     "data": {
      "text/plain": [
       "{'kind': 'artifact', 'metadata': {'project': 'td733-demo-early-exit-eng', 'name': 'bpe-256.tok', 'version': '64b4e7402c864872a671d45da5681b4c', 'created': '2025-07-21T13:26:22.06Z', 'updated': '2025-07-21T13:26:22.198Z', 'created_by': 'emanuele.boscari@tndigit.it', 'updated_by': 'emanuele.boscari@tndigit.it', 'embedded': False}, 'spec': {'path': 's3://datalake/td733-demo-early-exit-eng/artifact/bpe-256.tok/64b4e7402c864872a671d45da5681b4c/bpe-256.tok'}, 'status': {'state': 'READY', 'files': [{'path': 'bpe-256.tok', 'name': 'bpe-256.tok', 'content_type': 'binary/octet-stream', 'size': 1141, 'hash': 'md5:71b1508ddc66826cbe5beaad8a0ace95', 'last_modified': '2025-07-21T13:26:22+00:00'}]}, 'user': 'emanuele.boscari@tndigit.it', 'project': 'td733-demo-early-exit-eng', 'name': 'bpe-256.tok', 'id': '64b4e7402c864872a671d45da5681b4c', 'key': 'store://td733-demo-early-exit-eng/artifact/artifact/bpe-256.tok:64b4e7402c864872a671d45da5681b4c'}"
      ]
     },
     "execution_count": 9,
     "metadata": {},
     "output_type": "execute_result"
    }
   ],
   "source": [
    "project.log_artifact(\n",
    "    name=\"bpe-256.tok\",\n",
    "    kind=\"artifact\",\n",
    "    source=f\"{BASE_DIR}/English-EE-conformer/bpe-256.tok\"\n",
    ")"
   ]
  },
  {
   "cell_type": "markdown",
   "metadata": {},
   "source": [
    "### REGISTER THE FUNCTION"
   ]
  },
  {
   "cell_type": "code",
   "execution_count": 18,
   "metadata": {},
   "outputs": [],
   "source": [
    "func = project.new_function(\n",
    "    name=\"serve_function\",\n",
    "    kind=\"python\",\n",
    "    python_version=\"PYTHON3_10\",\n",
    "    # TNDIGIT\n",
    "    code_src=\"git+https://github.com/eb-tndigit/audio-early-exit-transformer\",\n",
    "    # FBK\n",
    "    #code_src=\"git+https://github.com/tn-aixpa/audio-early-exit-transformer\",\n",
    "    handler=\"serve_model:serve_multipart\",\n",
    "    init_function=\"init\",\n",
    "    # la parte di requirements è inutile perché di default verranno installate le librerie \n",
    "    # se presente il file requirements.txt all'interno della repo\n",
    "    # SE TD CON IMAGE QUESTO è MISSING DA AGGIUNGERE\n",
    "    # requirements=[\"multipart==1.2.1\"]\n",
    ")"
   ]
  },
  {
   "cell_type": "markdown",
   "metadata": {
    "jp-MarkdownHeadingCollapsed": true
   },
   "source": [
    "### BUILD PART (only needed in the beginning)"
   ]
  },
  {
   "cell_type": "code",
   "execution_count": 13,
   "metadata": {},
   "outputs": [
    {
     "name": "stdout",
     "output_type": "stream",
     "text": [
      "Writing dummy.py\n"
     ]
    }
   ],
   "source": [
    "%%writefile dummy.py\n",
    "\n",
    "def init(context):\n",
    "    print(\"Init okay\")\n",
    "\n",
    "def serve(context, event):\n",
    "    return {\"status\": \"Okay\", \"received_headers\": event.headers}"
   ]
  },
  {
   "cell_type": "code",
   "execution_count": 14,
   "metadata": {},
   "outputs": [],
   "source": [
    "build_function = project.new_function(\n",
    "    name=\"build_function\",\n",
    "    kind=\"python\",\n",
    "    python_version=\"PYTHON3_10\",\n",
    "    code_src=\"dummy.py\",\n",
    "    handler=\"serve\",\n",
    "    init_function = \"init\",\n",
    ")"
   ]
  },
  {
   "cell_type": "code",
   "execution_count": 15,
   "metadata": {},
   "outputs": [],
   "source": [
    "resources = {\n",
    "    \"mem\": {\n",
    "        # \"requests\": \"1\",\n",
    "        \"limits\": \"32Gi\",\n",
    "    },\n",
    "    \"cpu\": {\n",
    "        # \"requests\": \"1\",\n",
    "        \"limits\": \"6\"\n",
    "    }\n",
    "}"
   ]
  },
  {
   "cell_type": "code",
   "execution_count": 16,
   "metadata": {},
   "outputs": [
    {
     "name": "stderr",
     "output_type": "stream",
     "text": [
      "2025-08-22 09:43:56,155 - INFO - Waiting for run e7f18fbb5d5e4b209abb75f6421d963a to finish...\n",
      "2025-08-22 09:44:01,193 - INFO - Waiting for run e7f18fbb5d5e4b209abb75f6421d963a to finish...\n",
      "2025-08-22 09:44:06,220 - INFO - Waiting for run e7f18fbb5d5e4b209abb75f6421d963a to finish...\n",
      "2025-08-22 09:44:11,249 - INFO - Waiting for run e7f18fbb5d5e4b209abb75f6421d963a to finish...\n",
      "2025-08-22 09:44:16,277 - INFO - Waiting for run e7f18fbb5d5e4b209abb75f6421d963a to finish...\n",
      "2025-08-22 09:44:21,302 - INFO - Waiting for run e7f18fbb5d5e4b209abb75f6421d963a to finish...\n",
      "2025-08-22 09:44:26,330 - INFO - Waiting for run e7f18fbb5d5e4b209abb75f6421d963a to finish...\n",
      "2025-08-22 09:44:31,355 - INFO - Waiting for run e7f18fbb5d5e4b209abb75f6421d963a to finish...\n",
      "2025-08-22 09:44:36,385 - INFO - Waiting for run e7f18fbb5d5e4b209abb75f6421d963a to finish...\n",
      "2025-08-22 09:44:41,415 - INFO - Waiting for run e7f18fbb5d5e4b209abb75f6421d963a to finish...\n",
      "2025-08-22 09:44:46,446 - INFO - Waiting for run e7f18fbb5d5e4b209abb75f6421d963a to finish...\n",
      "2025-08-22 09:44:51,472 - INFO - Waiting for run e7f18fbb5d5e4b209abb75f6421d963a to finish...\n",
      "2025-08-22 09:44:56,500 - INFO - Waiting for run e7f18fbb5d5e4b209abb75f6421d963a to finish...\n",
      "2025-08-22 09:45:01,529 - INFO - Waiting for run e7f18fbb5d5e4b209abb75f6421d963a to finish...\n",
      "2025-08-22 09:45:06,554 - INFO - Waiting for run e7f18fbb5d5e4b209abb75f6421d963a to finish...\n",
      "2025-08-22 09:45:11,579 - INFO - Waiting for run e7f18fbb5d5e4b209abb75f6421d963a to finish...\n",
      "2025-08-22 09:45:16,603 - INFO - Waiting for run e7f18fbb5d5e4b209abb75f6421d963a to finish...\n",
      "2025-08-22 09:45:21,629 - INFO - Waiting for run e7f18fbb5d5e4b209abb75f6421d963a to finish...\n",
      "2025-08-22 09:45:26,658 - INFO - Waiting for run e7f18fbb5d5e4b209abb75f6421d963a to finish...\n",
      "2025-08-22 09:45:31,681 - INFO - Waiting for run e7f18fbb5d5e4b209abb75f6421d963a to finish...\n",
      "2025-08-22 09:45:36,706 - INFO - Waiting for run e7f18fbb5d5e4b209abb75f6421d963a to finish...\n",
      "2025-08-22 09:45:41,734 - INFO - Waiting for run e7f18fbb5d5e4b209abb75f6421d963a to finish...\n",
      "2025-08-22 09:45:46,758 - INFO - Waiting for run e7f18fbb5d5e4b209abb75f6421d963a to finish...\n",
      "2025-08-22 09:45:51,783 - INFO - Waiting for run e7f18fbb5d5e4b209abb75f6421d963a to finish...\n",
      "2025-08-22 09:45:56,806 - INFO - Waiting for run e7f18fbb5d5e4b209abb75f6421d963a to finish...\n",
      "2025-08-22 09:46:01,834 - INFO - Waiting for run e7f18fbb5d5e4b209abb75f6421d963a to finish...\n",
      "2025-08-22 09:46:06,860 - INFO - Waiting for run e7f18fbb5d5e4b209abb75f6421d963a to finish...\n",
      "2025-08-22 09:46:11,885 - INFO - Waiting for run e7f18fbb5d5e4b209abb75f6421d963a to finish...\n",
      "2025-08-22 09:46:16,908 - INFO - Waiting for run e7f18fbb5d5e4b209abb75f6421d963a to finish...\n",
      "2025-08-22 09:46:21,931 - INFO - Waiting for run e7f18fbb5d5e4b209abb75f6421d963a to finish...\n",
      "2025-08-22 09:46:26,961 - INFO - Waiting for run e7f18fbb5d5e4b209abb75f6421d963a to finish...\n",
      "2025-08-22 09:46:31,990 - INFO - Waiting for run e7f18fbb5d5e4b209abb75f6421d963a to finish...\n",
      "2025-08-22 09:46:37,031 - INFO - Waiting for run e7f18fbb5d5e4b209abb75f6421d963a to finish...\n",
      "2025-08-22 09:46:42,060 - INFO - Waiting for run e7f18fbb5d5e4b209abb75f6421d963a to finish...\n",
      "2025-08-22 09:46:47,083 - INFO - Waiting for run e7f18fbb5d5e4b209abb75f6421d963a to finish...\n",
      "2025-08-22 09:46:52,114 - INFO - Waiting for run e7f18fbb5d5e4b209abb75f6421d963a to finish...\n",
      "2025-08-22 09:46:57,137 - INFO - Waiting for run e7f18fbb5d5e4b209abb75f6421d963a to finish...\n",
      "2025-08-22 09:47:02,166 - INFO - Waiting for run e7f18fbb5d5e4b209abb75f6421d963a to finish...\n",
      "2025-08-22 09:47:07,190 - INFO - Waiting for run e7f18fbb5d5e4b209abb75f6421d963a to finish...\n",
      "2025-08-22 09:47:12,219 - INFO - Waiting for run e7f18fbb5d5e4b209abb75f6421d963a to finish...\n",
      "2025-08-22 09:47:17,243 - INFO - Waiting for run e7f18fbb5d5e4b209abb75f6421d963a to finish...\n",
      "2025-08-22 09:47:22,269 - INFO - Waiting for run e7f18fbb5d5e4b209abb75f6421d963a to finish...\n",
      "2025-08-22 09:47:27,292 - INFO - Waiting for run e7f18fbb5d5e4b209abb75f6421d963a to finish...\n",
      "2025-08-22 09:47:32,316 - INFO - Waiting for run e7f18fbb5d5e4b209abb75f6421d963a to finish...\n",
      "2025-08-22 09:47:37,340 - INFO - Waiting for run e7f18fbb5d5e4b209abb75f6421d963a to finish...\n",
      "2025-08-22 09:47:42,369 - INFO - Waiting for run e7f18fbb5d5e4b209abb75f6421d963a to finish...\n",
      "2025-08-22 09:47:47,397 - INFO - Waiting for run e7f18fbb5d5e4b209abb75f6421d963a to finish...\n",
      "2025-08-22 09:47:52,418 - INFO - Waiting for run e7f18fbb5d5e4b209abb75f6421d963a to finish...\n",
      "2025-08-22 09:47:57,445 - INFO - Waiting for run e7f18fbb5d5e4b209abb75f6421d963a to finish...\n",
      "2025-08-22 09:48:02,468 - INFO - Waiting for run e7f18fbb5d5e4b209abb75f6421d963a to finish...\n",
      "2025-08-22 09:48:07,494 - INFO - Waiting for run e7f18fbb5d5e4b209abb75f6421d963a to finish...\n",
      "2025-08-22 09:48:12,517 - INFO - Waiting for run e7f18fbb5d5e4b209abb75f6421d963a to finish...\n",
      "2025-08-22 09:48:17,543 - INFO - Waiting for run e7f18fbb5d5e4b209abb75f6421d963a to finish...\n",
      "2025-08-22 09:48:22,569 - INFO - Waiting for run e7f18fbb5d5e4b209abb75f6421d963a to finish...\n",
      "2025-08-22 09:48:27,597 - INFO - Waiting for run e7f18fbb5d5e4b209abb75f6421d963a to finish...\n",
      "2025-08-22 09:48:32,625 - INFO - Waiting for run e7f18fbb5d5e4b209abb75f6421d963a to finish...\n",
      "2025-08-22 09:48:37,653 - INFO - Waiting for run e7f18fbb5d5e4b209abb75f6421d963a to finish...\n",
      "2025-08-22 09:48:42,678 - INFO - Waiting for run e7f18fbb5d5e4b209abb75f6421d963a to finish...\n",
      "2025-08-22 09:48:47,709 - INFO - Waiting for run e7f18fbb5d5e4b209abb75f6421d963a to finish...\n",
      "2025-08-22 09:48:52,735 - INFO - Waiting for run e7f18fbb5d5e4b209abb75f6421d963a to finish...\n",
      "2025-08-22 09:48:57,760 - INFO - Waiting for run e7f18fbb5d5e4b209abb75f6421d963a to finish...\n",
      "2025-08-22 09:49:02,785 - INFO - Waiting for run e7f18fbb5d5e4b209abb75f6421d963a to finish...\n",
      "2025-08-22 09:49:07,809 - INFO - Waiting for run e7f18fbb5d5e4b209abb75f6421d963a to finish...\n",
      "2025-08-22 09:49:12,834 - INFO - Waiting for run e7f18fbb5d5e4b209abb75f6421d963a to finish...\n",
      "2025-08-22 09:49:17,858 - INFO - Waiting for run e7f18fbb5d5e4b209abb75f6421d963a to finish...\n",
      "2025-08-22 09:49:22,885 - INFO - Waiting for run e7f18fbb5d5e4b209abb75f6421d963a to finish...\n",
      "2025-08-22 09:49:27,909 - INFO - Waiting for run e7f18fbb5d5e4b209abb75f6421d963a to finish...\n",
      "2025-08-22 09:49:32,933 - INFO - Waiting for run e7f18fbb5d5e4b209abb75f6421d963a to finish...\n",
      "2025-08-22 09:49:37,961 - INFO - Waiting for run e7f18fbb5d5e4b209abb75f6421d963a to finish...\n",
      "2025-08-22 09:49:42,989 - INFO - Waiting for run e7f18fbb5d5e4b209abb75f6421d963a to finish...\n",
      "2025-08-22 09:49:48,018 - INFO - Waiting for run e7f18fbb5d5e4b209abb75f6421d963a to finish...\n",
      "2025-08-22 09:49:53,044 - INFO - Waiting for run e7f18fbb5d5e4b209abb75f6421d963a to finish...\n",
      "2025-08-22 09:49:58,072 - INFO - Waiting for run e7f18fbb5d5e4b209abb75f6421d963a to finish...\n",
      "2025-08-22 09:50:03,097 - INFO - Waiting for run e7f18fbb5d5e4b209abb75f6421d963a to finish...\n",
      "2025-08-22 09:50:08,124 - INFO - Waiting for run e7f18fbb5d5e4b209abb75f6421d963a to finish...\n",
      "2025-08-22 09:50:13,150 - INFO - Waiting for run e7f18fbb5d5e4b209abb75f6421d963a to finish...\n",
      "2025-08-22 09:50:18,173 - INFO - Waiting for run e7f18fbb5d5e4b209abb75f6421d963a to finish...\n",
      "2025-08-22 09:50:23,198 - INFO - Waiting for run e7f18fbb5d5e4b209abb75f6421d963a to finish...\n",
      "2025-08-22 09:50:28,225 - INFO - Waiting for run e7f18fbb5d5e4b209abb75f6421d963a to finish...\n",
      "2025-08-22 09:50:33,250 - INFO - Waiting for run e7f18fbb5d5e4b209abb75f6421d963a to finish...\n",
      "2025-08-22 09:50:38,281 - INFO - Waiting for run e7f18fbb5d5e4b209abb75f6421d963a to finish...\n",
      "2025-08-22 09:50:43,309 - INFO - Waiting for run e7f18fbb5d5e4b209abb75f6421d963a to finish...\n",
      "2025-08-22 09:50:48,335 - INFO - Waiting for run e7f18fbb5d5e4b209abb75f6421d963a to finish...\n",
      "2025-08-22 09:50:53,361 - INFO - Waiting for run e7f18fbb5d5e4b209abb75f6421d963a to finish...\n",
      "2025-08-22 09:50:58,389 - INFO - Waiting for run e7f18fbb5d5e4b209abb75f6421d963a to finish...\n",
      "2025-08-22 09:51:03,416 - INFO - Waiting for run e7f18fbb5d5e4b209abb75f6421d963a to finish...\n",
      "2025-08-22 09:51:08,446 - INFO - Waiting for run e7f18fbb5d5e4b209abb75f6421d963a to finish...\n",
      "2025-08-22 09:51:13,469 - INFO - Waiting for run e7f18fbb5d5e4b209abb75f6421d963a to finish...\n",
      "2025-08-22 09:51:18,496 - INFO - Waiting for run e7f18fbb5d5e4b209abb75f6421d963a to finish...\n",
      "2025-08-22 09:51:23,521 - INFO - Waiting for run e7f18fbb5d5e4b209abb75f6421d963a to finish...\n",
      "2025-08-22 09:51:28,546 - INFO - Waiting for run e7f18fbb5d5e4b209abb75f6421d963a to finish...\n",
      "2025-08-22 09:51:33,568 - INFO - Waiting for run e7f18fbb5d5e4b209abb75f6421d963a to finish...\n",
      "2025-08-22 09:51:38,613 - INFO - Waiting for run e7f18fbb5d5e4b209abb75f6421d963a to finish...\n",
      "2025-08-22 09:51:43,637 - INFO - Waiting for run e7f18fbb5d5e4b209abb75f6421d963a to finish...\n",
      "2025-08-22 09:51:48,661 - INFO - Waiting for run e7f18fbb5d5e4b209abb75f6421d963a to finish...\n",
      "2025-08-22 09:51:53,687 - INFO - Waiting for run e7f18fbb5d5e4b209abb75f6421d963a to finish...\n",
      "2025-08-22 09:51:58,716 - INFO - Waiting for run e7f18fbb5d5e4b209abb75f6421d963a to finish...\n",
      "2025-08-22 09:52:03,744 - INFO - Waiting for run e7f18fbb5d5e4b209abb75f6421d963a to finish...\n",
      "2025-08-22 09:52:08,774 - INFO - Waiting for run e7f18fbb5d5e4b209abb75f6421d963a to finish...\n",
      "2025-08-22 09:52:13,797 - INFO - Waiting for run e7f18fbb5d5e4b209abb75f6421d963a to finish...\n",
      "2025-08-22 09:52:18,823 - INFO - Waiting for run e7f18fbb5d5e4b209abb75f6421d963a to finish...\n",
      "2025-08-22 09:52:23,849 - INFO - Waiting for run e7f18fbb5d5e4b209abb75f6421d963a to finish...\n",
      "2025-08-22 09:52:28,873 - INFO - Waiting for run e7f18fbb5d5e4b209abb75f6421d963a to finish...\n",
      "2025-08-22 09:52:33,896 - INFO - Waiting for run e7f18fbb5d5e4b209abb75f6421d963a to finish...\n",
      "2025-08-22 09:52:38,923 - INFO - Waiting for run e7f18fbb5d5e4b209abb75f6421d963a to finish...\n",
      "2025-08-22 09:52:43,943 - INFO - Waiting for run e7f18fbb5d5e4b209abb75f6421d963a to finish...\n",
      "2025-08-22 09:52:48,965 - INFO - Waiting for run e7f18fbb5d5e4b209abb75f6421d963a to finish...\n",
      "2025-08-22 09:52:53,987 - INFO - Waiting for run e7f18fbb5d5e4b209abb75f6421d963a to finish...\n",
      "2025-08-22 09:52:59,014 - INFO - Waiting for run e7f18fbb5d5e4b209abb75f6421d963a to finish...\n",
      "2025-08-22 09:53:04,039 - INFO - Waiting for run e7f18fbb5d5e4b209abb75f6421d963a to finish...\n",
      "2025-08-22 09:53:09,067 - INFO - Waiting for run e7f18fbb5d5e4b209abb75f6421d963a to finish...\n",
      "2025-08-22 09:53:14,092 - INFO - Waiting for run e7f18fbb5d5e4b209abb75f6421d963a to finish...\n",
      "2025-08-22 09:53:19,115 - INFO - Waiting for run e7f18fbb5d5e4b209abb75f6421d963a to finish...\n",
      "2025-08-22 09:53:24,139 - INFO - Waiting for run e7f18fbb5d5e4b209abb75f6421d963a to finish...\n",
      "2025-08-22 09:53:29,164 - INFO - Waiting for run e7f18fbb5d5e4b209abb75f6421d963a to finish...\n",
      "2025-08-22 09:53:34,190 - INFO - Waiting for run e7f18fbb5d5e4b209abb75f6421d963a to finish...\n",
      "2025-08-22 09:53:39,220 - INFO - Waiting for run e7f18fbb5d5e4b209abb75f6421d963a to finish...\n",
      "2025-08-22 09:53:44,249 - INFO - Waiting for run e7f18fbb5d5e4b209abb75f6421d963a to finish...\n",
      "2025-08-22 09:53:49,276 - INFO - Waiting for run e7f18fbb5d5e4b209abb75f6421d963a to finish...\n",
      "2025-08-22 09:53:54,301 - INFO - Waiting for run e7f18fbb5d5e4b209abb75f6421d963a to finish...\n",
      "2025-08-22 09:53:59,329 - INFO - Waiting for run e7f18fbb5d5e4b209abb75f6421d963a to finish...\n",
      "2025-08-22 09:54:04,356 - INFO - Waiting for run e7f18fbb5d5e4b209abb75f6421d963a to finish...\n",
      "2025-08-22 09:54:09,382 - INFO - Waiting for run e7f18fbb5d5e4b209abb75f6421d963a to finish...\n",
      "2025-08-22 09:54:14,408 - INFO - Waiting for run e7f18fbb5d5e4b209abb75f6421d963a to finish...\n",
      "2025-08-22 09:54:19,434 - INFO - Waiting for run e7f18fbb5d5e4b209abb75f6421d963a to finish...\n",
      "2025-08-22 09:54:24,461 - INFO - Waiting for run e7f18fbb5d5e4b209abb75f6421d963a to finish...\n",
      "2025-08-22 09:54:29,488 - INFO - Waiting for run e7f18fbb5d5e4b209abb75f6421d963a to finish...\n",
      "2025-08-22 09:54:34,516 - INFO - Waiting for run e7f18fbb5d5e4b209abb75f6421d963a to finish...\n",
      "2025-08-22 09:54:39,539 - INFO - Waiting for run e7f18fbb5d5e4b209abb75f6421d963a to finish...\n",
      "2025-08-22 09:54:44,563 - INFO - Waiting for run e7f18fbb5d5e4b209abb75f6421d963a to finish...\n",
      "2025-08-22 09:54:49,589 - INFO - Waiting for run e7f18fbb5d5e4b209abb75f6421d963a to finish...\n",
      "2025-08-22 09:54:54,616 - INFO - Waiting for run e7f18fbb5d5e4b209abb75f6421d963a to finish...\n",
      "2025-08-22 09:54:59,645 - INFO - Waiting for run e7f18fbb5d5e4b209abb75f6421d963a to finish...\n",
      "2025-08-22 09:55:04,669 - INFO - Waiting for run e7f18fbb5d5e4b209abb75f6421d963a to finish...\n",
      "2025-08-22 09:55:09,697 - INFO - Waiting for run e7f18fbb5d5e4b209abb75f6421d963a to finish...\n",
      "2025-08-22 09:55:14,722 - INFO - Waiting for run e7f18fbb5d5e4b209abb75f6421d963a to finish...\n",
      "2025-08-22 09:55:19,749 - INFO - Waiting for run e7f18fbb5d5e4b209abb75f6421d963a to finish...\n",
      "2025-08-22 09:55:24,775 - INFO - Waiting for run e7f18fbb5d5e4b209abb75f6421d963a to finish...\n",
      "2025-08-22 09:55:29,799 - INFO - Waiting for run e7f18fbb5d5e4b209abb75f6421d963a to finish...\n",
      "2025-08-22 09:55:34,826 - INFO - Waiting for run e7f18fbb5d5e4b209abb75f6421d963a to finish...\n",
      "2025-08-22 09:55:39,850 - INFO - Waiting for run e7f18fbb5d5e4b209abb75f6421d963a to finish...\n",
      "2025-08-22 09:55:44,876 - INFO - Waiting for run e7f18fbb5d5e4b209abb75f6421d963a to finish...\n",
      "2025-08-22 09:55:49,896 - INFO - Waiting for run e7f18fbb5d5e4b209abb75f6421d963a to finish...\n",
      "2025-08-22 09:55:54,924 - INFO - Waiting for run e7f18fbb5d5e4b209abb75f6421d963a to finish...\n",
      "2025-08-22 09:55:59,949 - INFO - Waiting for run e7f18fbb5d5e4b209abb75f6421d963a to finish...\n",
      "2025-08-22 09:56:04,973 - INFO - Waiting for run e7f18fbb5d5e4b209abb75f6421d963a to finish...\n",
      "2025-08-22 09:56:10,001 - INFO - Waiting for run e7f18fbb5d5e4b209abb75f6421d963a to finish...\n",
      "2025-08-22 09:56:15,026 - INFO - Waiting for run e7f18fbb5d5e4b209abb75f6421d963a to finish...\n",
      "2025-08-22 09:56:20,051 - INFO - Waiting for run e7f18fbb5d5e4b209abb75f6421d963a to finish...\n",
      "2025-08-22 09:56:25,076 - INFO - Waiting for run e7f18fbb5d5e4b209abb75f6421d963a to finish...\n",
      "2025-08-22 09:56:30,104 - INFO - Waiting for run e7f18fbb5d5e4b209abb75f6421d963a to finish...\n",
      "2025-08-22 09:56:35,130 - INFO - Waiting for run e7f18fbb5d5e4b209abb75f6421d963a to finish...\n",
      "2025-08-22 09:56:40,155 - INFO - Waiting for run e7f18fbb5d5e4b209abb75f6421d963a to finish...\n",
      "2025-08-22 09:56:45,181 - INFO - Waiting for run e7f18fbb5d5e4b209abb75f6421d963a to finish...\n",
      "2025-08-22 09:56:50,208 - INFO - Waiting for run e7f18fbb5d5e4b209abb75f6421d963a to finish...\n",
      "2025-08-22 09:56:55,235 - INFO - Waiting for run e7f18fbb5d5e4b209abb75f6421d963a to finish...\n",
      "2025-08-22 09:57:00,274 - INFO - Waiting for run e7f18fbb5d5e4b209abb75f6421d963a to finish...\n",
      "2025-08-22 09:57:05,297 - INFO - Waiting for run e7f18fbb5d5e4b209abb75f6421d963a to finish...\n",
      "2025-08-22 09:57:10,321 - INFO - Waiting for run e7f18fbb5d5e4b209abb75f6421d963a to finish...\n",
      "2025-08-22 09:57:15,349 - INFO - Waiting for run e7f18fbb5d5e4b209abb75f6421d963a to finish...\n",
      "2025-08-22 09:57:20,376 - INFO - Waiting for run e7f18fbb5d5e4b209abb75f6421d963a to finish...\n",
      "2025-08-22 09:57:25,403 - INFO - Waiting for run e7f18fbb5d5e4b209abb75f6421d963a to finish...\n",
      "2025-08-22 09:57:30,430 - INFO - Waiting for run e7f18fbb5d5e4b209abb75f6421d963a to finish...\n",
      "2025-08-22 09:57:35,459 - INFO - Waiting for run e7f18fbb5d5e4b209abb75f6421d963a to finish...\n",
      "2025-08-22 09:57:40,485 - INFO - Waiting for run e7f18fbb5d5e4b209abb75f6421d963a to finish...\n",
      "2025-08-22 09:57:45,510 - INFO - Waiting for run e7f18fbb5d5e4b209abb75f6421d963a to finish...\n",
      "2025-08-22 09:57:50,536 - INFO - Waiting for run e7f18fbb5d5e4b209abb75f6421d963a to finish...\n",
      "2025-08-22 09:57:55,563 - INFO - Waiting for run e7f18fbb5d5e4b209abb75f6421d963a to finish...\n",
      "2025-08-22 09:58:00,590 - INFO - Waiting for run e7f18fbb5d5e4b209abb75f6421d963a to finish...\n",
      "2025-08-22 09:58:05,613 - INFO - Waiting for run e7f18fbb5d5e4b209abb75f6421d963a to finish...\n",
      "2025-08-22 09:58:10,638 - INFO - Waiting for run e7f18fbb5d5e4b209abb75f6421d963a to finish...\n",
      "2025-08-22 09:58:15,661 - INFO - Waiting for run e7f18fbb5d5e4b209abb75f6421d963a to finish...\n",
      "2025-08-22 09:58:20,685 - INFO - Waiting for run e7f18fbb5d5e4b209abb75f6421d963a to finish...\n",
      "2025-08-22 09:58:25,710 - INFO - Waiting for run e7f18fbb5d5e4b209abb75f6421d963a to finish...\n",
      "2025-08-22 09:58:30,735 - INFO - Waiting for run e7f18fbb5d5e4b209abb75f6421d963a to finish...\n",
      "2025-08-22 09:58:35,757 - INFO - Waiting for run e7f18fbb5d5e4b209abb75f6421d963a to finish...\n",
      "2025-08-22 09:58:40,780 - INFO - Waiting for run e7f18fbb5d5e4b209abb75f6421d963a to finish...\n",
      "2025-08-22 09:58:45,806 - INFO - Waiting for run e7f18fbb5d5e4b209abb75f6421d963a to finish...\n",
      "2025-08-22 09:58:50,828 - INFO - Waiting for run e7f18fbb5d5e4b209abb75f6421d963a to finish...\n",
      "2025-08-22 09:58:55,853 - INFO - Waiting for run e7f18fbb5d5e4b209abb75f6421d963a to finish...\n",
      "2025-08-22 09:59:00,877 - INFO - Waiting for run e7f18fbb5d5e4b209abb75f6421d963a to finish...\n",
      "2025-08-22 09:59:05,902 - INFO - Waiting for run e7f18fbb5d5e4b209abb75f6421d963a to finish...\n",
      "2025-08-22 09:59:10,923 - INFO - Waiting for run e7f18fbb5d5e4b209abb75f6421d963a to finish...\n",
      "2025-08-22 09:59:15,950 - INFO - Waiting for run e7f18fbb5d5e4b209abb75f6421d963a to finish...\n",
      "2025-08-22 09:59:20,971 - INFO - Waiting for run e7f18fbb5d5e4b209abb75f6421d963a to finish...\n",
      "2025-08-22 09:59:25,999 - INFO - Waiting for run e7f18fbb5d5e4b209abb75f6421d963a to finish...\n",
      "2025-08-22 09:59:31,021 - INFO - Waiting for run e7f18fbb5d5e4b209abb75f6421d963a to finish...\n",
      "2025-08-22 09:59:36,046 - INFO - Waiting for run e7f18fbb5d5e4b209abb75f6421d963a to finish...\n",
      "2025-08-22 09:59:41,069 - INFO - Waiting for run e7f18fbb5d5e4b209abb75f6421d963a to finish...\n",
      "2025-08-22 09:59:46,095 - INFO - Waiting for run e7f18fbb5d5e4b209abb75f6421d963a to finish...\n",
      "2025-08-22 09:59:51,118 - INFO - Waiting for run e7f18fbb5d5e4b209abb75f6421d963a to finish...\n",
      "2025-08-22 09:59:56,142 - INFO - Waiting for run e7f18fbb5d5e4b209abb75f6421d963a to finish...\n",
      "2025-08-22 10:00:01,168 - INFO - Waiting for run e7f18fbb5d5e4b209abb75f6421d963a to finish...\n",
      "2025-08-22 10:00:06,189 - INFO - Waiting for run e7f18fbb5d5e4b209abb75f6421d963a to finish...\n",
      "2025-08-22 10:00:11,214 - INFO - Waiting for run e7f18fbb5d5e4b209abb75f6421d963a to finish...\n",
      "2025-08-22 10:00:16,256 - INFO - Waiting for run e7f18fbb5d5e4b209abb75f6421d963a to finish...\n",
      "2025-08-22 10:00:21,285 - INFO - Run e7f18fbb5d5e4b209abb75f6421d963a finished in 985.13 seconds.\n"
     ]
    }
   ],
   "source": [
    "build_image = build_function.run( \n",
    "    \"build\",\n",
    "    instructions=[\n",
    "        \"pip install torch==2.8.0\",\n",
    "        \"pip install torchaudio==2.8.0\",\n",
    "        \"pip install tensorboard==2.18.0\",\n",
    "        \"pip install flashlight==0.1.1\",\n",
    "        \"pip install flashlight-text==0.0.7\",\n",
    "        \"pip install sentencepiece==0.2.0\",\n",
    "        \"pip install soundfile==0.12.1\",\n",
    "        \"pip install editdistance==0.8.1\",\n",
    "        \"pip install multipart==1.2.1\"],\n",
    "    resources=resources,\n",
    "    wait=True\n",
    ")"
   ]
  },
  {
   "cell_type": "code",
   "execution_count": 8,
   "metadata": {
    "scrolled": true
   },
   "outputs": [
    {
     "name": "stdout",
     "output_type": "stream",
     "text": [
      "\n",
      "\n",
      " harbor.aixpa.tndigit.it/digitalhub-tenant001-core/digitalhub-tenant001-td733-demo-early-exit-eng-serve_function:89586 \n",
      "\n",
      "\n"
     ]
    }
   ],
   "source": [
    "image = None\n",
    "try:\n",
    "    harbor_image_reference = build_image.status.k8s[\"pods\"][0][\"spec\"][\"containers\"][0][\"args\"][2]\n",
    "    image = harbor_image_reference.split(\"=\")[1]\n",
    "    print(\"\\n\\n\", image, \"\\n\\n\")\n",
    "except Exception as e:\n",
    "    print(e)"
   ]
  },
  {
   "cell_type": "markdown",
   "metadata": {},
   "source": [
    "### RUN PART"
   ]
  },
  {
   "cell_type": "code",
   "execution_count": 9,
   "metadata": {},
   "outputs": [],
   "source": [
    "# in case something is restarted\n",
    "image = \"harbor.aixpa.tndigit.it/digitalhub-tenant001-core/digitalhub-tenant001-td733-demo-early-exit-eng-serve_function:89586\""
   ]
  },
  {
   "cell_type": "code",
   "execution_count": 10,
   "metadata": {},
   "outputs": [],
   "source": [
    "# Test with image"
   ]
  },
  {
   "cell_type": "code",
   "execution_count": 21,
   "metadata": {},
   "outputs": [
    {
     "name": "stderr",
     "output_type": "stream",
     "text": [
      "2025-08-22 11:26:48,526 - INFO - Waiting for run 94432a20e4034f5f9097b95ab6dd8349 to deploy service.\n",
      "2025-08-22 11:26:53,545 - INFO - Waiting for run 94432a20e4034f5f9097b95ab6dd8349 to deploy service.\n",
      "2025-08-22 11:26:58,570 - INFO - Waiting for run 94432a20e4034f5f9097b95ab6dd8349 to deploy service.\n",
      "2025-08-22 11:26:58,595 - INFO - Run 94432a20e4034f5f9097b95ab6dd8349 service deployed.\n"
     ]
    }
   ],
   "source": [
    "run = func.run(\n",
    "    action=\"serve\",\n",
    "    #image = image,\n",
    "    resources = { \"cpu\": { \"limits\": \"4\"  },  \"mem\" : { \"limits\": \"32Gi\" }, \"gpu\": { \"requests\": \"1\", \"limits\": \"1\"  }},\n",
    "    tolerations = [{\"key\": \"nvidia.com/gpu\", \"operator\": \"Equal\", \"value\": \"h100\", \"effect\": \"NoSchedule\"}],\n",
    "    init_parameters = {\n",
    "        \"model_name\":\"early-exit-model\",\n",
    "        \"sp_model\":\"bpe-256.model\",\n",
    "        \"sp_lexicon\":\"bpe-256.lex\",\n",
    "        \"sp_tokens\":\"bpe-256.tok\"\n",
    "    },    \n",
    "    volumes=[\n",
    "        {\n",
    "            \"volume_type\": \"persistent_volume_claim\",\n",
    "            \"name\": \"early-exit-demo-serve\",\n",
    "            \"mount_path\": \"/data\",\n",
    "            \"spec\": { \"size\": \"25Gi\" }        \n",
    "        }\n",
    "    ],\n",
    "    wait = True\n",
    ")"
   ]
  },
  {
   "cell_type": "code",
   "execution_count": 34,
   "metadata": {},
   "outputs": [],
   "source": [
    "#sp_model_artifact = project.get_artifact(\"bpe-256.model\")    \n",
    "#sp_model_path = sp_model_artifact.download(destination=\".\", overwrite=True)"
   ]
  },
  {
   "cell_type": "code",
   "execution_count": 27,
   "metadata": {},
   "outputs": [
    {
     "data": {
      "text/plain": [
       "{'kind': 'artifact', 'metadata': {'project': 'td733-demo-early-exit-eng', 'name': 'test.wav', 'version': 'a2864f70e6114edb9876ba3ace92cffa', 'created': '2025-06-23T14:28:31.368Z', 'updated': '2025-06-23T14:28:32.503Z', 'created_by': 'emanuele.boscari@tndigit.it', 'updated_by': 'emanuele.boscari@tndigit.it', 'embedded': False}, 'spec': {'path': 's3://datalake/td733-demo-early-exit-eng/artifact/test.wav/a2864f70e6114edb9876ba3ace92cffa/test.wav'}, 'status': {'state': 'READY', 'files': [{'path': 'test.wav', 'name': 'test.wav', 'content_type': 'audio/x-wav', 'size': 26935374, 'hash': 'ETag:3e55d3adf4dfa3b399b11aa36ccc5799-4', 'last_modified': '2025-06-23T14:28:32+00:00'}]}, 'user': 'emanuele.boscari@tndigit.it', 'project': 'td733-demo-early-exit-eng', 'name': 'test.wav', 'id': 'a2864f70e6114edb9876ba3ace92cffa', 'key': 'store://td733-demo-early-exit-eng/artifact/artifact/test.wav:a2864f70e6114edb9876ba3ace92cffa'}"
      ]
     },
     "execution_count": 27,
     "metadata": {},
     "output_type": "execute_result"
    }
   ],
   "source": [
    "project.log_artifact(\n",
    "    name=\"test.wav\",\n",
    "    kind=\"artifact\",\n",
    "    source=f\"{BASE_DIR}/test.wav\"\n",
    ")"
   ]
  },
  {
   "cell_type": "code",
   "execution_count": 36,
   "metadata": {},
   "outputs": [
    {
     "name": "stdout",
     "output_type": "stream",
     "text": [
      "200\n",
      "[{\"filename\": \"file\", \"transcript\": \"cur pow rush ash ash shoutvlush or war warp up forushpar shutlushsh trash but l upk wo soul hoats as a marh o hushd asir lar to if wh nerll's house old wash l te swile wash e l low fashs losh cok hosh tur a a wather hush h musk ps up up grh sharved soge store o\"}]\n"
     ]
    }
   ],
   "source": [
    "run.refresh()\n",
    "file_path = \"test.wav\"\n",
    "with open(file_path, \"rb\") as file:\n",
    "    files = {'file': file}\n",
    "    response = run.invoke(method=\"POST\", files=files)\n",
    "    print(response.status_code)\n",
    "    print(response.text)"
   ]
  },
  {
   "cell_type": "code",
   "execution_count": null,
   "metadata": {},
   "outputs": [],
   "source": [
    "#run.refresh()\n",
    "#json = {\"name\": \"test-audio-eng.wav\"}\n",
    "#response = run.invoke(method=\"POST\", json=json)\n",
    "#print(response.json())"
   ]
  },
  {
   "cell_type": "code",
   "execution_count": null,
   "metadata": {},
   "outputs": [],
   "source": [
    "#function = project.new_function(\n",
    "#    kind='container',\n",
    "#    name='serve_eng_function',\n",
    "#    image=\"ghcr.io/tn-aixpa/audio-early-exit-eng:0.1\",\n",
    "#    args=[\"early-exit-eng-model\"]\n",
    "#)"
   ]
  },
  {
   "cell_type": "code",
   "execution_count": null,
   "metadata": {},
   "outputs": [],
   "source": [
    "#run = function.run(\n",
    "#    action=\"serve\",\n",
    "#    profile=\"1xa100\",\n",
    "#    fs_group=100,\n",
    "#    service_ports = [\n",
    "#        {\n",
    "#            \"port\": 8051,\n",
    "#            \"target_port\": 8051\n",
    "#        }\n",
    "#    ],\n",
    "#    volumes=[\n",
    "#        {\n",
    "#            \"volume_type\": \"persistent_volume_claim\",\n",
    "#            \"name\": \"early-exit-demo-serve\",\n",
    "#            \"mount_path\": \"/data\",\n",
    "#            \"spec\": {\n",
    "#                \"claim_name\": \"early-exit-demo-serve\"\n",
    "#            }\n",
    "#        }\n",
    "#    ]\n",
    "#)"
   ]
  }
 ],
 "metadata": {
  "kernelspec": {
   "display_name": "Python 3 (ipykernel)",
   "language": "python",
   "name": "python3"
  },
  "language_info": {
   "codemirror_mode": {
    "name": "ipython",
    "version": 3
   },
   "file_extension": ".py",
   "mimetype": "text/x-python",
   "name": "python",
   "nbconvert_exporter": "python",
   "pygments_lexer": "ipython3",
   "version": "3.10.11"
  }
 },
 "nbformat": 4,
 "nbformat_minor": 4
}
