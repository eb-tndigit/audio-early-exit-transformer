{
 "cells": [
  {
   "cell_type": "code",
   "execution_count": 1,
   "metadata": {},
   "outputs": [],
   "source": [
    "import digitalhub as dh\n",
    "\n",
    "project = dh.get_or_create_project(\"td733-demo-early-exit-eng\")"
   ]
  },
  {
   "cell_type": "code",
   "execution_count": 2,
   "metadata": {},
   "outputs": [
    {
     "name": "stdout",
     "output_type": "stream",
     "text": [
      "Cloning into 'English-EE-conformer'...\n",
      "remote: Enumerating objects: 45, done.\u001b[K\n",
      "remote: Counting objects: 100% (42/42), done.\u001b[K\n",
      "remote: Compressing objects: 100% (41/41), done.\u001b[K\n",
      "remote: Total 45 (delta 19), reused 0 (delta 0), pack-reused 3 (from 1)\u001b[K\n",
      "Unpacking objects: 100% (45/45), 811.79 KiB | 1.03 MiB/s, done.\n"
     ]
    }
   ],
   "source": [
    "!git clone https://huggingface.co/SpeechTek/English-EE-conformer\n",
    "# if you are using the above you need to manually download the .model file and the english-EE-conformer\n",
    "# cause they are tagged with LFS and in the workspace there is not the "
   ]
  },
  {
   "cell_type": "code",
   "execution_count": 2,
   "metadata": {},
   "outputs": [
    {
     "data": {
      "text/plain": [
       "'/home/emanueleboscari/audio-early-exit-transformer'"
      ]
     },
     "execution_count": 2,
     "metadata": {},
     "output_type": "execute_result"
    }
   ],
   "source": [
    "import os\n",
    "BASE_DIR = os.getcwd()\n",
    "BASE_DIR"
   ]
  },
  {
   "cell_type": "markdown",
   "metadata": {
    "jp-MarkdownHeadingCollapsed": true
   },
   "source": [
    "### LOG CONTENTS (not needed if you already did)"
   ]
  },
  {
   "cell_type": "code",
   "execution_count": 6,
   "metadata": {},
   "outputs": [
    {
     "data": {
      "text/plain": [
       "{'kind': 'model', 'metadata': {'project': 'td733-demo-early-exit-eng', 'name': 'early-exit-model', 'version': '82db0c66af9b42c48aa724babb6ad422', 'created': '2025-07-21T13:26:15.046Z', 'updated': '2025-07-21T13:26:17.261Z', 'created_by': 'emanuele.boscari@tndigit.it', 'updated_by': 'emanuele.boscari@tndigit.it', 'embedded': False}, 'spec': {'path': 's3://datalake/td733-demo-early-exit-eng/artifact/early-exit-model/82db0c66af9b42c48aa724babb6ad422/english-EE-conformer', 'framework': 'pytorch', 'algorithm': 'early-exit', 'parameters': {}}, 'status': {'state': 'READY', 'files': [{'path': 'english-EE-conformer', 'name': 'english-EE-conformer', 'content_type': 'binary/octet-stream', 'size': 128397278, 'hash': 'ETag:06a985e0aa3a6d78a78fd7ea6f0de123-16', 'last_modified': '2025-07-21T13:26:17+00:00'}], 'metrics': {}}, 'user': 'emanuele.boscari@tndigit.it', 'project': 'td733-demo-early-exit-eng', 'name': 'early-exit-model', 'id': '82db0c66af9b42c48aa724babb6ad422', 'key': 'store://td733-demo-early-exit-eng/model/model/early-exit-model:82db0c66af9b42c48aa724babb6ad422'}"
      ]
     },
     "execution_count": 6,
     "metadata": {},
     "output_type": "execute_result"
    }
   ],
   "source": [
    "project.log_model(\n",
    "    name=\"early-exit-model\",\n",
    "    kind=\"model\",\n",
    "    source=f\"{BASE_DIR}/English-EE-conformer/english-EE-conformer\",\n",
    "    algorithm=\"early-exit\",\n",
    "    framework=\"pytorch\"\n",
    ")"
   ]
  },
  {
   "cell_type": "code",
   "execution_count": 7,
   "metadata": {},
   "outputs": [
    {
     "data": {
      "text/plain": [
       "{'kind': 'artifact', 'metadata': {'project': 'td733-demo-early-exit-eng', 'name': 'bpe-256.model', 'version': '87078197f3eb408f83385a3d4010c2bd', 'created': '2025-07-21T13:26:18.296Z', 'updated': '2025-07-21T13:26:18.472Z', 'created_by': 'emanuele.boscari@tndigit.it', 'updated_by': 'emanuele.boscari@tndigit.it', 'embedded': False}, 'spec': {'path': 's3://datalake/td733-demo-early-exit-eng/artifact/bpe-256.model/87078197f3eb408f83385a3d4010c2bd/bpe-256.model'}, 'status': {'state': 'READY', 'files': [{'path': 'bpe-256.model', 'name': 'bpe-256.model', 'content_type': 'binary/octet-stream', 'size': 240971, 'hash': 'md5:fed21299e603604b97849f1a65eed695', 'last_modified': '2025-07-21T13:26:18+00:00'}]}, 'user': 'emanuele.boscari@tndigit.it', 'project': 'td733-demo-early-exit-eng', 'name': 'bpe-256.model', 'id': '87078197f3eb408f83385a3d4010c2bd', 'key': 'store://td733-demo-early-exit-eng/artifact/artifact/bpe-256.model:87078197f3eb408f83385a3d4010c2bd'}"
      ]
     },
     "execution_count": 7,
     "metadata": {},
     "output_type": "execute_result"
    }
   ],
   "source": [
    "project.log_artifact(\n",
    "    name=\"bpe-256.model\",\n",
    "    kind=\"artifact\",\n",
    "    source=f\"{BASE_DIR}/English-EE-conformer/bpe-256.model\"\n",
    ")"
   ]
  },
  {
   "cell_type": "code",
   "execution_count": 8,
   "metadata": {},
   "outputs": [
    {
     "data": {
      "text/plain": [
       "{'kind': 'artifact', 'metadata': {'project': 'td733-demo-early-exit-eng', 'name': 'bpe-256.lex', 'version': '2ce27a2a40fa4d5b8f7d4a586207b4f7', 'created': '2025-07-21T13:26:19.947Z', 'updated': '2025-07-21T13:26:20.151Z', 'created_by': 'emanuele.boscari@tndigit.it', 'updated_by': 'emanuele.boscari@tndigit.it', 'embedded': False}, 'spec': {'path': 's3://datalake/td733-demo-early-exit-eng/artifact/bpe-256.lex/2ce27a2a40fa4d5b8f7d4a586207b4f7/bpe-256.lex'}, 'status': {'state': 'READY', 'files': [{'path': 'bpe-256.lex', 'name': 'bpe-256.lex', 'content_type': 'binary/octet-stream', 'size': 3066357, 'hash': 'md5:98f2a50b2289f415699401d1c46a88a2', 'last_modified': '2025-07-21T13:26:20+00:00'}]}, 'user': 'emanuele.boscari@tndigit.it', 'project': 'td733-demo-early-exit-eng', 'name': 'bpe-256.lex', 'id': '2ce27a2a40fa4d5b8f7d4a586207b4f7', 'key': 'store://td733-demo-early-exit-eng/artifact/artifact/bpe-256.lex:2ce27a2a40fa4d5b8f7d4a586207b4f7'}"
      ]
     },
     "execution_count": 8,
     "metadata": {},
     "output_type": "execute_result"
    }
   ],
   "source": [
    "project.log_artifact(\n",
    "    name=\"bpe-256.lex\",\n",
    "    kind=\"artifact\",\n",
    "    source=f\"{BASE_DIR}/English-EE-conformer/bpe-256.lex\"\n",
    ")"
   ]
  },
  {
   "cell_type": "code",
   "execution_count": 9,
   "metadata": {},
   "outputs": [
    {
     "data": {
      "text/plain": [
       "{'kind': 'artifact', 'metadata': {'project': 'td733-demo-early-exit-eng', 'name': 'bpe-256.tok', 'version': '64b4e7402c864872a671d45da5681b4c', 'created': '2025-07-21T13:26:22.06Z', 'updated': '2025-07-21T13:26:22.198Z', 'created_by': 'emanuele.boscari@tndigit.it', 'updated_by': 'emanuele.boscari@tndigit.it', 'embedded': False}, 'spec': {'path': 's3://datalake/td733-demo-early-exit-eng/artifact/bpe-256.tok/64b4e7402c864872a671d45da5681b4c/bpe-256.tok'}, 'status': {'state': 'READY', 'files': [{'path': 'bpe-256.tok', 'name': 'bpe-256.tok', 'content_type': 'binary/octet-stream', 'size': 1141, 'hash': 'md5:71b1508ddc66826cbe5beaad8a0ace95', 'last_modified': '2025-07-21T13:26:22+00:00'}]}, 'user': 'emanuele.boscari@tndigit.it', 'project': 'td733-demo-early-exit-eng', 'name': 'bpe-256.tok', 'id': '64b4e7402c864872a671d45da5681b4c', 'key': 'store://td733-demo-early-exit-eng/artifact/artifact/bpe-256.tok:64b4e7402c864872a671d45da5681b4c'}"
      ]
     },
     "execution_count": 9,
     "metadata": {},
     "output_type": "execute_result"
    }
   ],
   "source": [
    "project.log_artifact(\n",
    "    name=\"bpe-256.tok\",\n",
    "    kind=\"artifact\",\n",
    "    source=f\"{BASE_DIR}/English-EE-conformer/bpe-256.tok\"\n",
    ")"
   ]
  },
  {
   "cell_type": "markdown",
   "metadata": {},
   "source": [
    "### REGISTER THE FUNCTION"
   ]
  },
  {
   "cell_type": "code",
   "execution_count": 4,
   "metadata": {},
   "outputs": [],
   "source": [
    "func = project.new_function(\n",
    "    name=\"serve_function\",\n",
    "    kind=\"python\",\n",
    "    python_version=\"PYTHON3_10\",\n",
    "    # TNDIGIT\n",
    "    # code_src=\"git+https://github.com/eb-tndigit/audio-early-exit-transformer\",\n",
    "    # FBK\n",
    "    code_src=\"git+https://github.com/tn-aixpa/audio-early-exit-transformer\",\n",
    "    handler=\"serve_model:serve_multipart\",\n",
    "    init_function=\"init\",\n",
    "    # la parte di requirements è inutile perché di default verranno installate le librerie \n",
    "    # se presente il file requirements.txt all'interno della repo\n",
    "    # SE TD CON IMAGE QUESTO è MISSING DA AGGIUNGERE\n",
    "    # requirements=[\"multipart==1.2.1\"]\n",
    ")"
   ]
  },
  {
   "cell_type": "markdown",
   "metadata": {},
   "source": [
    "### BUILD PART (only needed in the beginning)"
   ]
  },
  {
   "cell_type": "code",
   "execution_count": 7,
   "metadata": {},
   "outputs": [],
   "source": [
    "resources = {\n",
    "    \"mem\": {\n",
    "        # \"requests\": \"1\",\n",
    "        \"limits\": \"32Gi\",\n",
    "    },\n",
    "    \"cpu\": {\n",
    "        # \"requests\": \"1\",\n",
    "        \"limits\": \"6\"\n",
    "    }\n",
    "}"
   ]
  },
  {
   "cell_type": "code",
   "execution_count": 8,
   "metadata": {},
   "outputs": [
    {
     "name": "stderr",
     "output_type": "stream",
     "text": [
      "2025-08-19 08:35:19,105 - INFO - Waiting for run c792bea25ca241e195d003c59d9a758f to finish...\n",
      "2025-08-19 08:35:24,134 - INFO - Waiting for run c792bea25ca241e195d003c59d9a758f to finish...\n",
      "2025-08-19 08:35:29,171 - INFO - Waiting for run c792bea25ca241e195d003c59d9a758f to finish...\n",
      "2025-08-19 08:35:34,218 - INFO - Waiting for run c792bea25ca241e195d003c59d9a758f to finish...\n",
      "2025-08-19 08:35:39,258 - INFO - Waiting for run c792bea25ca241e195d003c59d9a758f to finish...\n",
      "2025-08-19 08:35:44,304 - INFO - Waiting for run c792bea25ca241e195d003c59d9a758f to finish...\n",
      "2025-08-19 08:35:49,343 - INFO - Waiting for run c792bea25ca241e195d003c59d9a758f to finish...\n",
      "2025-08-19 08:35:54,381 - INFO - Waiting for run c792bea25ca241e195d003c59d9a758f to finish...\n",
      "2025-08-19 08:35:59,420 - INFO - Waiting for run c792bea25ca241e195d003c59d9a758f to finish...\n",
      "2025-08-19 08:36:04,461 - INFO - Waiting for run c792bea25ca241e195d003c59d9a758f to finish...\n",
      "2025-08-19 08:36:09,494 - INFO - Waiting for run c792bea25ca241e195d003c59d9a758f to finish...\n",
      "2025-08-19 08:36:14,540 - INFO - Waiting for run c792bea25ca241e195d003c59d9a758f to finish...\n",
      "2025-08-19 08:36:19,576 - INFO - Waiting for run c792bea25ca241e195d003c59d9a758f to finish...\n",
      "2025-08-19 08:36:24,614 - INFO - Waiting for run c792bea25ca241e195d003c59d9a758f to finish...\n",
      "2025-08-19 08:36:29,657 - INFO - Waiting for run c792bea25ca241e195d003c59d9a758f to finish...\n",
      "2025-08-19 08:36:34,696 - INFO - Waiting for run c792bea25ca241e195d003c59d9a758f to finish...\n",
      "2025-08-19 08:36:39,738 - INFO - Waiting for run c792bea25ca241e195d003c59d9a758f to finish...\n",
      "2025-08-19 08:36:44,779 - INFO - Waiting for run c792bea25ca241e195d003c59d9a758f to finish...\n",
      "2025-08-19 08:36:49,817 - INFO - Waiting for run c792bea25ca241e195d003c59d9a758f to finish...\n",
      "2025-08-19 08:36:54,866 - INFO - Waiting for run c792bea25ca241e195d003c59d9a758f to finish...\n",
      "2025-08-19 08:36:59,901 - INFO - Waiting for run c792bea25ca241e195d003c59d9a758f to finish...\n",
      "2025-08-19 08:37:04,944 - INFO - Waiting for run c792bea25ca241e195d003c59d9a758f to finish...\n",
      "2025-08-19 08:37:09,984 - INFO - Waiting for run c792bea25ca241e195d003c59d9a758f to finish...\n",
      "2025-08-19 08:37:15,017 - INFO - Waiting for run c792bea25ca241e195d003c59d9a758f to finish...\n",
      "2025-08-19 08:37:20,052 - INFO - Waiting for run c792bea25ca241e195d003c59d9a758f to finish...\n",
      "2025-08-19 08:37:25,090 - INFO - Waiting for run c792bea25ca241e195d003c59d9a758f to finish...\n",
      "2025-08-19 08:37:30,120 - INFO - Waiting for run c792bea25ca241e195d003c59d9a758f to finish...\n",
      "2025-08-19 08:37:35,159 - INFO - Waiting for run c792bea25ca241e195d003c59d9a758f to finish...\n",
      "2025-08-19 08:37:40,198 - INFO - Waiting for run c792bea25ca241e195d003c59d9a758f to finish...\n",
      "2025-08-19 08:37:45,228 - INFO - Waiting for run c792bea25ca241e195d003c59d9a758f to finish...\n",
      "2025-08-19 08:37:50,270 - INFO - Waiting for run c792bea25ca241e195d003c59d9a758f to finish...\n",
      "2025-08-19 08:37:55,306 - INFO - Waiting for run c792bea25ca241e195d003c59d9a758f to finish...\n",
      "2025-08-19 08:38:00,344 - INFO - Waiting for run c792bea25ca241e195d003c59d9a758f to finish...\n",
      "2025-08-19 08:38:05,384 - INFO - Waiting for run c792bea25ca241e195d003c59d9a758f to finish...\n",
      "2025-08-19 08:38:10,420 - INFO - Waiting for run c792bea25ca241e195d003c59d9a758f to finish...\n",
      "2025-08-19 08:38:15,455 - INFO - Waiting for run c792bea25ca241e195d003c59d9a758f to finish...\n",
      "2025-08-19 08:38:20,498 - INFO - Waiting for run c792bea25ca241e195d003c59d9a758f to finish...\n",
      "2025-08-19 08:38:25,538 - INFO - Waiting for run c792bea25ca241e195d003c59d9a758f to finish...\n",
      "2025-08-19 08:38:30,575 - INFO - Waiting for run c792bea25ca241e195d003c59d9a758f to finish...\n",
      "2025-08-19 08:38:35,616 - INFO - Waiting for run c792bea25ca241e195d003c59d9a758f to finish...\n",
      "2025-08-19 08:38:40,650 - INFO - Waiting for run c792bea25ca241e195d003c59d9a758f to finish...\n",
      "2025-08-19 08:38:45,693 - INFO - Waiting for run c792bea25ca241e195d003c59d9a758f to finish...\n",
      "2025-08-19 08:38:50,732 - INFO - Waiting for run c792bea25ca241e195d003c59d9a758f to finish...\n",
      "2025-08-19 08:38:55,773 - INFO - Waiting for run c792bea25ca241e195d003c59d9a758f to finish...\n",
      "2025-08-19 08:39:00,806 - INFO - Waiting for run c792bea25ca241e195d003c59d9a758f to finish...\n",
      "2025-08-19 08:39:05,849 - INFO - Waiting for run c792bea25ca241e195d003c59d9a758f to finish...\n",
      "2025-08-19 08:39:10,880 - INFO - Waiting for run c792bea25ca241e195d003c59d9a758f to finish...\n",
      "2025-08-19 08:39:15,916 - INFO - Waiting for run c792bea25ca241e195d003c59d9a758f to finish...\n",
      "2025-08-19 08:39:20,952 - INFO - Waiting for run c792bea25ca241e195d003c59d9a758f to finish...\n",
      "2025-08-19 08:39:25,987 - INFO - Waiting for run c792bea25ca241e195d003c59d9a758f to finish...\n",
      "2025-08-19 08:39:31,018 - INFO - Waiting for run c792bea25ca241e195d003c59d9a758f to finish...\n",
      "2025-08-19 08:39:36,049 - INFO - Waiting for run c792bea25ca241e195d003c59d9a758f to finish...\n",
      "2025-08-19 08:39:41,087 - INFO - Waiting for run c792bea25ca241e195d003c59d9a758f to finish...\n",
      "2025-08-19 08:39:46,117 - INFO - Waiting for run c792bea25ca241e195d003c59d9a758f to finish...\n",
      "2025-08-19 08:39:51,150 - INFO - Waiting for run c792bea25ca241e195d003c59d9a758f to finish...\n",
      "2025-08-19 08:39:56,187 - INFO - Waiting for run c792bea25ca241e195d003c59d9a758f to finish...\n",
      "2025-08-19 08:40:01,221 - INFO - Waiting for run c792bea25ca241e195d003c59d9a758f to finish...\n",
      "2025-08-19 08:40:06,253 - INFO - Waiting for run c792bea25ca241e195d003c59d9a758f to finish...\n",
      "2025-08-19 08:40:11,286 - INFO - Waiting for run c792bea25ca241e195d003c59d9a758f to finish...\n",
      "2025-08-19 08:40:16,319 - INFO - Waiting for run c792bea25ca241e195d003c59d9a758f to finish...\n",
      "2025-08-19 08:40:21,355 - INFO - Waiting for run c792bea25ca241e195d003c59d9a758f to finish...\n",
      "2025-08-19 08:40:26,388 - INFO - Waiting for run c792bea25ca241e195d003c59d9a758f to finish...\n",
      "2025-08-19 08:40:31,423 - INFO - Waiting for run c792bea25ca241e195d003c59d9a758f to finish...\n",
      "2025-08-19 08:40:36,457 - INFO - Waiting for run c792bea25ca241e195d003c59d9a758f to finish...\n",
      "2025-08-19 08:40:41,491 - INFO - Waiting for run c792bea25ca241e195d003c59d9a758f to finish...\n",
      "2025-08-19 08:40:46,527 - INFO - Waiting for run c792bea25ca241e195d003c59d9a758f to finish...\n",
      "2025-08-19 08:40:51,563 - INFO - Waiting for run c792bea25ca241e195d003c59d9a758f to finish...\n",
      "2025-08-19 08:40:56,594 - INFO - Waiting for run c792bea25ca241e195d003c59d9a758f to finish...\n",
      "2025-08-19 08:41:01,629 - INFO - Waiting for run c792bea25ca241e195d003c59d9a758f to finish...\n",
      "2025-08-19 08:41:06,660 - INFO - Waiting for run c792bea25ca241e195d003c59d9a758f to finish...\n",
      "2025-08-19 08:41:11,692 - INFO - Waiting for run c792bea25ca241e195d003c59d9a758f to finish...\n",
      "2025-08-19 08:41:16,726 - INFO - Waiting for run c792bea25ca241e195d003c59d9a758f to finish...\n",
      "2025-08-19 08:41:21,758 - INFO - Waiting for run c792bea25ca241e195d003c59d9a758f to finish...\n",
      "2025-08-19 08:41:26,792 - INFO - Waiting for run c792bea25ca241e195d003c59d9a758f to finish...\n",
      "2025-08-19 08:41:31,826 - INFO - Waiting for run c792bea25ca241e195d003c59d9a758f to finish...\n",
      "2025-08-19 08:41:36,857 - INFO - Waiting for run c792bea25ca241e195d003c59d9a758f to finish...\n",
      "2025-08-19 08:41:41,900 - INFO - Waiting for run c792bea25ca241e195d003c59d9a758f to finish...\n",
      "2025-08-19 08:41:46,929 - INFO - Waiting for run c792bea25ca241e195d003c59d9a758f to finish...\n",
      "2025-08-19 08:41:51,959 - INFO - Waiting for run c792bea25ca241e195d003c59d9a758f to finish...\n",
      "2025-08-19 08:41:56,994 - INFO - Waiting for run c792bea25ca241e195d003c59d9a758f to finish...\n",
      "2025-08-19 08:42:02,030 - INFO - Waiting for run c792bea25ca241e195d003c59d9a758f to finish...\n",
      "2025-08-19 08:42:07,058 - INFO - Waiting for run c792bea25ca241e195d003c59d9a758f to finish...\n",
      "2025-08-19 08:42:12,087 - INFO - Waiting for run c792bea25ca241e195d003c59d9a758f to finish...\n",
      "2025-08-19 08:42:17,116 - INFO - Waiting for run c792bea25ca241e195d003c59d9a758f to finish...\n",
      "2025-08-19 08:42:22,151 - INFO - Waiting for run c792bea25ca241e195d003c59d9a758f to finish...\n",
      "2025-08-19 08:42:27,183 - INFO - Waiting for run c792bea25ca241e195d003c59d9a758f to finish...\n",
      "2025-08-19 08:42:32,211 - INFO - Waiting for run c792bea25ca241e195d003c59d9a758f to finish...\n",
      "2025-08-19 08:42:37,245 - INFO - Waiting for run c792bea25ca241e195d003c59d9a758f to finish...\n",
      "2025-08-19 08:42:42,277 - INFO - Waiting for run c792bea25ca241e195d003c59d9a758f to finish...\n",
      "2025-08-19 08:42:47,310 - INFO - Waiting for run c792bea25ca241e195d003c59d9a758f to finish...\n",
      "2025-08-19 08:42:52,346 - INFO - Waiting for run c792bea25ca241e195d003c59d9a758f to finish...\n",
      "2025-08-19 08:42:57,383 - INFO - Waiting for run c792bea25ca241e195d003c59d9a758f to finish...\n",
      "2025-08-19 08:43:02,417 - INFO - Waiting for run c792bea25ca241e195d003c59d9a758f to finish...\n",
      "2025-08-19 08:43:07,448 - INFO - Waiting for run c792bea25ca241e195d003c59d9a758f to finish...\n",
      "2025-08-19 08:43:12,478 - INFO - Waiting for run c792bea25ca241e195d003c59d9a758f to finish...\n",
      "2025-08-19 08:43:17,516 - INFO - Waiting for run c792bea25ca241e195d003c59d9a758f to finish...\n",
      "2025-08-19 08:43:22,547 - INFO - Waiting for run c792bea25ca241e195d003c59d9a758f to finish...\n",
      "2025-08-19 08:43:27,584 - INFO - Waiting for run c792bea25ca241e195d003c59d9a758f to finish...\n",
      "2025-08-19 08:43:32,617 - INFO - Waiting for run c792bea25ca241e195d003c59d9a758f to finish...\n",
      "2025-08-19 08:43:37,655 - INFO - Waiting for run c792bea25ca241e195d003c59d9a758f to finish...\n",
      "2025-08-19 08:43:42,693 - INFO - Waiting for run c792bea25ca241e195d003c59d9a758f to finish...\n",
      "2025-08-19 08:43:47,728 - INFO - Waiting for run c792bea25ca241e195d003c59d9a758f to finish...\n",
      "2025-08-19 08:43:52,764 - INFO - Waiting for run c792bea25ca241e195d003c59d9a758f to finish...\n",
      "2025-08-19 08:43:57,801 - INFO - Waiting for run c792bea25ca241e195d003c59d9a758f to finish...\n",
      "2025-08-19 08:44:02,838 - INFO - Waiting for run c792bea25ca241e195d003c59d9a758f to finish...\n",
      "2025-08-19 08:44:07,869 - INFO - Waiting for run c792bea25ca241e195d003c59d9a758f to finish...\n",
      "2025-08-19 08:44:12,903 - INFO - Waiting for run c792bea25ca241e195d003c59d9a758f to finish...\n",
      "2025-08-19 08:44:17,935 - INFO - Waiting for run c792bea25ca241e195d003c59d9a758f to finish...\n",
      "2025-08-19 08:44:22,963 - INFO - Waiting for run c792bea25ca241e195d003c59d9a758f to finish...\n",
      "2025-08-19 08:44:27,994 - INFO - Waiting for run c792bea25ca241e195d003c59d9a758f to finish...\n",
      "2025-08-19 08:44:33,027 - INFO - Waiting for run c792bea25ca241e195d003c59d9a758f to finish...\n",
      "2025-08-19 08:44:38,062 - INFO - Waiting for run c792bea25ca241e195d003c59d9a758f to finish...\n",
      "2025-08-19 08:44:43,100 - INFO - Waiting for run c792bea25ca241e195d003c59d9a758f to finish...\n",
      "2025-08-19 08:44:48,132 - INFO - Waiting for run c792bea25ca241e195d003c59d9a758f to finish...\n",
      "2025-08-19 08:44:53,168 - INFO - Waiting for run c792bea25ca241e195d003c59d9a758f to finish...\n",
      "2025-08-19 08:44:58,220 - INFO - Waiting for run c792bea25ca241e195d003c59d9a758f to finish...\n",
      "2025-08-19 08:45:03,252 - INFO - Waiting for run c792bea25ca241e195d003c59d9a758f to finish...\n",
      "2025-08-19 08:45:08,285 - INFO - Waiting for run c792bea25ca241e195d003c59d9a758f to finish...\n",
      "2025-08-19 08:45:13,317 - INFO - Waiting for run c792bea25ca241e195d003c59d9a758f to finish...\n",
      "2025-08-19 08:45:18,353 - INFO - Waiting for run c792bea25ca241e195d003c59d9a758f to finish...\n",
      "2025-08-19 08:45:23,385 - INFO - Waiting for run c792bea25ca241e195d003c59d9a758f to finish...\n",
      "2025-08-19 08:45:28,424 - INFO - Waiting for run c792bea25ca241e195d003c59d9a758f to finish...\n",
      "2025-08-19 08:45:33,460 - INFO - Waiting for run c792bea25ca241e195d003c59d9a758f to finish...\n",
      "2025-08-19 08:45:38,497 - INFO - Waiting for run c792bea25ca241e195d003c59d9a758f to finish...\n",
      "2025-08-19 08:45:43,532 - INFO - Waiting for run c792bea25ca241e195d003c59d9a758f to finish...\n",
      "2025-08-19 08:45:48,571 - INFO - Waiting for run c792bea25ca241e195d003c59d9a758f to finish...\n",
      "2025-08-19 08:45:53,605 - INFO - Waiting for run c792bea25ca241e195d003c59d9a758f to finish...\n",
      "2025-08-19 08:45:58,640 - INFO - Waiting for run c792bea25ca241e195d003c59d9a758f to finish...\n",
      "2025-08-19 08:46:03,675 - INFO - Waiting for run c792bea25ca241e195d003c59d9a758f to finish...\n",
      "2025-08-19 08:46:08,710 - INFO - Waiting for run c792bea25ca241e195d003c59d9a758f to finish...\n",
      "2025-08-19 08:46:13,745 - INFO - Waiting for run c792bea25ca241e195d003c59d9a758f to finish...\n",
      "2025-08-19 08:46:18,781 - INFO - Waiting for run c792bea25ca241e195d003c59d9a758f to finish...\n",
      "2025-08-19 08:46:23,820 - INFO - Waiting for run c792bea25ca241e195d003c59d9a758f to finish...\n",
      "2025-08-19 08:46:28,848 - INFO - Waiting for run c792bea25ca241e195d003c59d9a758f to finish...\n",
      "2025-08-19 08:46:33,885 - INFO - Waiting for run c792bea25ca241e195d003c59d9a758f to finish...\n",
      "2025-08-19 08:46:38,917 - INFO - Waiting for run c792bea25ca241e195d003c59d9a758f to finish...\n",
      "2025-08-19 08:46:43,950 - INFO - Waiting for run c792bea25ca241e195d003c59d9a758f to finish...\n",
      "2025-08-19 08:46:48,979 - INFO - Waiting for run c792bea25ca241e195d003c59d9a758f to finish...\n",
      "2025-08-19 08:46:54,008 - INFO - Waiting for run c792bea25ca241e195d003c59d9a758f to finish...\n",
      "2025-08-19 08:46:59,044 - INFO - Waiting for run c792bea25ca241e195d003c59d9a758f to finish...\n",
      "2025-08-19 08:47:04,073 - INFO - Waiting for run c792bea25ca241e195d003c59d9a758f to finish...\n",
      "2025-08-19 08:47:09,105 - INFO - Waiting for run c792bea25ca241e195d003c59d9a758f to finish...\n",
      "2025-08-19 08:47:14,137 - INFO - Waiting for run c792bea25ca241e195d003c59d9a758f to finish...\n",
      "2025-08-19 08:47:19,169 - INFO - Waiting for run c792bea25ca241e195d003c59d9a758f to finish...\n",
      "2025-08-19 08:47:24,201 - INFO - Waiting for run c792bea25ca241e195d003c59d9a758f to finish...\n",
      "2025-08-19 08:47:29,235 - INFO - Waiting for run c792bea25ca241e195d003c59d9a758f to finish...\n",
      "2025-08-19 08:47:34,274 - INFO - Waiting for run c792bea25ca241e195d003c59d9a758f to finish...\n",
      "2025-08-19 08:47:39,310 - INFO - Waiting for run c792bea25ca241e195d003c59d9a758f to finish...\n",
      "2025-08-19 08:47:44,350 - INFO - Waiting for run c792bea25ca241e195d003c59d9a758f to finish...\n",
      "2025-08-19 08:47:49,387 - INFO - Waiting for run c792bea25ca241e195d003c59d9a758f to finish...\n",
      "2025-08-19 08:47:54,423 - INFO - Waiting for run c792bea25ca241e195d003c59d9a758f to finish...\n",
      "2025-08-19 08:47:59,460 - INFO - Waiting for run c792bea25ca241e195d003c59d9a758f to finish...\n",
      "2025-08-19 08:48:04,497 - INFO - Waiting for run c792bea25ca241e195d003c59d9a758f to finish...\n",
      "2025-08-19 08:48:09,535 - INFO - Run c792bea25ca241e195d003c59d9a758f finished in 770.43 seconds.\n"
     ]
    }
   ],
   "source": [
    "build_image = func.run( \n",
    "    \"build\",\n",
    "    instructions=[\"pip install torch==2.8.0\", \n",
    "                    \"pip install torchaudio==2.8.0\", \n",
    "                    \"pip install tensorboard==2.18.0\", \n",
    "                    \"pip install flashlight==0.1.1\", \n",
    "                    \"pip install flashlight-text==0.0.7\", \n",
    "                    \"pip install sentencepiece==0.2.0\", \n",
    "                    \"pip install soundfile==0.12.1\", \n",
    "                    \"pip install editdistance==0.8.1\", \n",
    "                    \"pip install multipart==1.2.1\"],\n",
    "    resources=resources,\n",
    "    wait=True\n",
    ")"
   ]
  },
  {
   "cell_type": "code",
   "execution_count": 24,
   "metadata": {
    "scrolled": true
   },
   "outputs": [
    {
     "name": "stdout",
     "output_type": "stream",
     "text": [
      "\n",
      "\n",
      " harbor.aixpa.tndigit.it/tenant001-core/digitalhub-tenant001-td733-demo-early-exit-eng-serve_function:fb6f7 \n",
      "\n",
      "\n"
     ]
    }
   ],
   "source": [
    "image = None\n",
    "try:\n",
    "    harbor_image_reference = build_image.status.k8s[\"pods\"][0][\"spec\"][\"containers\"][0][\"args\"][2]\n",
    "    image = harbor_image_reference.split(\"=\")[1]\n",
    "    print(\"\\n\\n\", image, \"\\n\\n\")\n",
    "except Exception as e:\n",
    "    print(e)"
   ]
  },
  {
   "cell_type": "markdown",
   "metadata": {},
   "source": [
    "### RUN PART"
   ]
  },
  {
   "cell_type": "code",
   "execution_count": 16,
   "metadata": {},
   "outputs": [],
   "source": [
    "# in case something is restarted\n",
    "image = \"harbor.aixpa.tndigit.it/tenant001-core/digitalhub-tenant001-td733-demo-early-exit-eng-serve_function:fb6f7\""
   ]
  },
  {
   "cell_type": "code",
   "execution_count": 5,
   "metadata": {},
   "outputs": [
    {
     "name": "stderr",
     "output_type": "stream",
     "text": [
      "2025-08-19 08:16:02,092 - INFO - Waiting for run b302feed21f84b278e796266c24846fd to deploy service.\n",
      "2025-08-19 08:16:07,108 - INFO - Waiting for run b302feed21f84b278e796266c24846fd to deploy service.\n",
      "2025-08-19 08:16:12,130 - INFO - Waiting for run b302feed21f84b278e796266c24846fd to deploy service.\n",
      "2025-08-19 08:16:17,150 - INFO - Waiting for run b302feed21f84b278e796266c24846fd to deploy service.\n",
      "2025-08-19 08:16:22,174 - INFO - Waiting for run b302feed21f84b278e796266c24846fd to deploy service.\n",
      "2025-08-19 08:16:22,190 - INFO - Run b302feed21f84b278e796266c24846fd service deployed.\n"
     ]
    }
   ],
   "source": [
    "run = func.run(\n",
    "    action=\"serve\",\n",
    "    #image = image,\n",
    "    resources = { \"cpu\": { \"limits\": \"4\"  },  \"mem\" : { \"limits\": \"32Gi\" }, \"gpu\": { \"requests\": \"1\", \"limits\": \"1\"  }},\n",
    "    tolerations = [{\"key\": \"nvidia.com/gpu\", \"operator\": \"Equal\", \"value\": \"h100\", \"effect\": \"NoSchedule\"}],\n",
    "    init_parameters = {\n",
    "        \"model_name\":\"early-exit-model\",\n",
    "        \"sp_model\":\"bpe-256.model\",\n",
    "        \"sp_lexicon\":\"bpe-256.lex\",\n",
    "        \"sp_tokens\":\"bpe-256.tok\"\n",
    "    },    \n",
    "    volumes=[\n",
    "        {\n",
    "            \"volume_type\": \"persistent_volume_claim\",\n",
    "            \"name\": \"early-exit-demo-serve\",\n",
    "            \"mount_path\": \"/data\",\n",
    "            \"spec\": { \"size\": \"25Gi\" }        \n",
    "        }\n",
    "    ],\n",
    "    wait = True\n",
    ")"
   ]
  },
  {
   "cell_type": "code",
   "execution_count": 34,
   "metadata": {},
   "outputs": [],
   "source": [
    "#sp_model_artifact = project.get_artifact(\"bpe-256.model\")    \n",
    "#sp_model_path = sp_model_artifact.download(destination=\".\", overwrite=True)"
   ]
  },
  {
   "cell_type": "code",
   "execution_count": 27,
   "metadata": {},
   "outputs": [
    {
     "data": {
      "text/plain": [
       "{'kind': 'artifact', 'metadata': {'project': 'td733-demo-early-exit-eng', 'name': 'test.wav', 'version': 'a2864f70e6114edb9876ba3ace92cffa', 'created': '2025-06-23T14:28:31.368Z', 'updated': '2025-06-23T14:28:32.503Z', 'created_by': 'emanuele.boscari@tndigit.it', 'updated_by': 'emanuele.boscari@tndigit.it', 'embedded': False}, 'spec': {'path': 's3://datalake/td733-demo-early-exit-eng/artifact/test.wav/a2864f70e6114edb9876ba3ace92cffa/test.wav'}, 'status': {'state': 'READY', 'files': [{'path': 'test.wav', 'name': 'test.wav', 'content_type': 'audio/x-wav', 'size': 26935374, 'hash': 'ETag:3e55d3adf4dfa3b399b11aa36ccc5799-4', 'last_modified': '2025-06-23T14:28:32+00:00'}]}, 'user': 'emanuele.boscari@tndigit.it', 'project': 'td733-demo-early-exit-eng', 'name': 'test.wav', 'id': 'a2864f70e6114edb9876ba3ace92cffa', 'key': 'store://td733-demo-early-exit-eng/artifact/artifact/test.wav:a2864f70e6114edb9876ba3ace92cffa'}"
      ]
     },
     "execution_count": 27,
     "metadata": {},
     "output_type": "execute_result"
    }
   ],
   "source": [
    "project.log_artifact(\n",
    "    name=\"test.wav\",\n",
    "    kind=\"artifact\",\n",
    "    source=f\"{BASE_DIR}/test.wav\"\n",
    ")"
   ]
  },
  {
   "cell_type": "code",
   "execution_count": 6,
   "metadata": {},
   "outputs": [
    {
     "name": "stdout",
     "output_type": "stream",
     "text": [
      "500\n",
      "EOF\n"
     ]
    }
   ],
   "source": [
    "run.refresh()\n",
    "file_path = \"test.wav\"\n",
    "with open(file_path, \"rb\") as file:\n",
    "    files = {'file': file}\n",
    "    response = run.invoke(method=\"POST\", files=files)\n",
    "    print(response.status_code)\n",
    "    print(response.text)"
   ]
  },
  {
   "cell_type": "code",
   "execution_count": null,
   "metadata": {},
   "outputs": [],
   "source": [
    "#run.refresh()\n",
    "#json = {\"name\": \"test-audio-eng.wav\"}\n",
    "#response = run.invoke(method=\"POST\", json=json)\n",
    "#print(response.json())"
   ]
  },
  {
   "cell_type": "code",
   "execution_count": null,
   "metadata": {},
   "outputs": [],
   "source": [
    "#function = project.new_function(\n",
    "#    kind='container',\n",
    "#    name='serve_eng_function',\n",
    "#    image=\"ghcr.io/tn-aixpa/audio-early-exit-eng:0.1\",\n",
    "#    args=[\"early-exit-eng-model\"]\n",
    "#)"
   ]
  },
  {
   "cell_type": "code",
   "execution_count": null,
   "metadata": {},
   "outputs": [],
   "source": [
    "#run = function.run(\n",
    "#    action=\"serve\",\n",
    "#    profile=\"1xa100\",\n",
    "#    fs_group=100,\n",
    "#    service_ports = [\n",
    "#        {\n",
    "#            \"port\": 8051,\n",
    "#            \"target_port\": 8051\n",
    "#        }\n",
    "#    ],\n",
    "#    volumes=[\n",
    "#        {\n",
    "#            \"volume_type\": \"persistent_volume_claim\",\n",
    "#            \"name\": \"early-exit-demo-serve\",\n",
    "#            \"mount_path\": \"/data\",\n",
    "#            \"spec\": {\n",
    "#                \"claim_name\": \"early-exit-demo-serve\"\n",
    "#            }\n",
    "#        }\n",
    "#    ]\n",
    "#)"
   ]
  }
 ],
 "metadata": {
  "kernelspec": {
   "display_name": "Python 3 (ipykernel)",
   "language": "python",
   "name": "python3"
  },
  "language_info": {
   "codemirror_mode": {
    "name": "ipython",
    "version": 3
   },
   "file_extension": ".py",
   "mimetype": "text/x-python",
   "name": "python",
   "nbconvert_exporter": "python",
   "pygments_lexer": "ipython3",
   "version": "3.10.11"
  }
 },
 "nbformat": 4,
 "nbformat_minor": 4
}
