{
 "cells": [
  {
   "cell_type": "code",
   "execution_count": null,
   "metadata": {},
   "outputs": [],
   "source": [
    "import digitalhub as dh\n",
    "\n",
    "project = dh.get_or_create_project(\"demo-early-exit-eng\")"
   ]
  },
  {
   "cell_type": "code",
   "execution_count": null,
   "metadata": {},
   "outputs": [],
   "source": [
    "project.log_model(\n",
    "    name=\"early-exit-eng-model\",\n",
    "    kind=\"model\",\n",
    "    source=\"/home/user/trained_model/mod032-transformer\",\n",
    "    algorithm=\"early-exit\",\n",
    "    framework=\"pythorch\"\n",
    ")"
   ]
  },
  {
   "cell_type": "code",
   "execution_count": null,
   "metadata": {},
   "outputs": [],
   "source": [
    "function = project.new_function(\n",
    "    kind='container',\n",
    "    name='serve_eng_function',\n",
    "    image=\"ghcr.io/tn-aixpa/audio-early-exit-eng:latest\",\n",
    "    args=[\"early-exit-eng-model\"]\n",
    ")"
   ]
  },
  {
   "cell_type": "code",
   "execution_count": null,
   "metadata": {},
   "outputs": [],
   "source": [
    "run = function.run(\n",
    "    action=\"serve\",\n",
    "    profile=\"1xa100\",\n",
    "    fs_group=65535,\n",
    "    volumes=[\n",
    "        {\n",
    "            \"volume_type\": \"persistent_volume_claim\",\n",
    "            \"name\": \"early-exit-demo-serve\",\n",
    "            \"mount_path\": \"/data\",\n",
    "            \"spec\": {\n",
    "                \"claim_name\": \"early-exit-demo-serve\"\n",
    "            }\n",
    "        }\n",
    "    ],\n",
    "    service_ports = [\n",
    "        {\n",
    "            \"port\": 8051,\n",
    "            \"target_port\": 8051\n",
    "        }\n",
    "    ]    \n",
    ")"
   ]
  }
 ],
 "metadata": {
  "language_info": {
   "name": "python"
  }
 },
 "nbformat": 4,
 "nbformat_minor": 2
}
