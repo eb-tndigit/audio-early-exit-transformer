{
 "cells": [
  {
   "cell_type": "code",
   "execution_count": 5,
   "metadata": {},
   "outputs": [],
   "source": [
    "import digitalhub as dh\n",
    "\n",
    "project = dh.get_or_create_project(\"td733-demo-early-exit-eng\")"
   ]
  },
  {
   "cell_type": "code",
   "execution_count": 6,
   "metadata": {},
   "outputs": [
    {
     "name": "stdout",
     "output_type": "stream",
     "text": [
      "fatal: destination path 'English-EE-conformer' already exists and is not an empty directory.\n"
     ]
    }
   ],
   "source": [
    "!git clone https://huggingface.co/SpeechTek/English-EE-conformer"
   ]
  },
  {
   "cell_type": "code",
   "execution_count": 7,
   "metadata": {},
   "outputs": [],
   "source": [
    "import os\n",
    "BASE_DIR = os.getcwd()"
   ]
  },
  {
   "cell_type": "code",
   "execution_count": 12,
   "metadata": {},
   "outputs": [
    {
     "data": {
      "text/plain": [
       "{'kind': 'model', 'metadata': {'project': 'td733-demo-early-exit-eng', 'name': 'early-exit-model', 'version': 'b1978f66da3244c6b3636f04d4ceef1e', 'created': '2025-06-23T11:40:09.336Z', 'updated': '2025-06-23T11:40:09.691Z', 'created_by': 'emanuele.boscari@tndigit.it', 'updated_by': 'emanuele.boscari@tndigit.it', 'embedded': False}, 'spec': {'path': 's3://datalake/td733-demo-early-exit-eng/artifact/early-exit-model/b1978f66da3244c6b3636f04d4ceef1e/english-EE-conformer', 'framework': 'pytorch', 'algorithm': 'early-exit', 'parameters': {}}, 'status': {'state': 'READY', 'files': [{'path': 'english-EE-conformer', 'name': 'english-EE-conformer', 'content_type': 'binary/octet-stream', 'size': 134, 'hash': 'md5:ee28cac06604df892bde83dcec358c7a', 'last_modified': '2025-06-23T11:40:09+00:00'}], 'metrics': {}}, 'user': 'emanuele.boscari@tndigit.it', 'project': 'td733-demo-early-exit-eng', 'name': 'early-exit-model', 'id': 'b1978f66da3244c6b3636f04d4ceef1e', 'key': 'store://td733-demo-early-exit-eng/model/model/early-exit-model:b1978f66da3244c6b3636f04d4ceef1e'}"
      ]
     },
     "execution_count": 12,
     "metadata": {},
     "output_type": "execute_result"
    }
   ],
   "source": [
    "project.log_model(\n",
    "    name=\"early-exit-model\",\n",
    "    kind=\"model\",\n",
    "    source=f\"{BASE_DIR}/English-EE-conformer/english-EE-conformer\",\n",
    "    algorithm=\"early-exit\",\n",
    "    framework=\"pytorch\"\n",
    ")"
   ]
  },
  {
   "cell_type": "code",
   "execution_count": 9,
   "metadata": {},
   "outputs": [
    {
     "data": {
      "text/plain": [
       "{'kind': 'artifact', 'metadata': {'project': 'td733-demo-early-exit-eng', 'name': 'bpe-256.model', 'version': 'ee1acf3ea14348ca9b23268c69d771b7', 'created': '2025-06-23T11:39:13.404Z', 'updated': '2025-06-23T11:39:13.697Z', 'created_by': 'emanuele.boscari@tndigit.it', 'updated_by': 'emanuele.boscari@tndigit.it', 'embedded': False}, 'spec': {'path': 's3://datalake/td733-demo-early-exit-eng/artifact/bpe-256.model/ee1acf3ea14348ca9b23268c69d771b7/bpe-256.model'}, 'status': {'state': 'READY', 'files': [{'path': 'bpe-256.model', 'name': 'bpe-256.model', 'content_type': 'binary/octet-stream', 'size': 131, 'hash': 'md5:86852d07ce29698ee420599beaca3679', 'last_modified': '2025-06-23T11:39:13+00:00'}]}, 'user': 'emanuele.boscari@tndigit.it', 'project': 'td733-demo-early-exit-eng', 'name': 'bpe-256.model', 'id': 'ee1acf3ea14348ca9b23268c69d771b7', 'key': 'store://td733-demo-early-exit-eng/artifact/artifact/bpe-256.model:ee1acf3ea14348ca9b23268c69d771b7'}"
      ]
     },
     "execution_count": 9,
     "metadata": {},
     "output_type": "execute_result"
    }
   ],
   "source": [
    "project.log_artifact(\n",
    "    name=\"bpe-256.model\",\n",
    "    kind=\"artifact\",\n",
    "    source=f\"{BASE_DIR}/English-EE-conformer/bpe-256.model\"\n",
    ")"
   ]
  },
  {
   "cell_type": "code",
   "execution_count": 10,
   "metadata": {},
   "outputs": [
    {
     "data": {
      "text/plain": [
       "{'kind': 'artifact', 'metadata': {'project': 'td733-demo-early-exit-eng', 'name': 'bpe-256.lex', 'version': 'ff96eb42cf0441899507ca1213c8ed57', 'created': '2025-06-23T11:39:17.881Z', 'updated': '2025-06-23T11:39:18.445Z', 'created_by': 'emanuele.boscari@tndigit.it', 'updated_by': 'emanuele.boscari@tndigit.it', 'embedded': False}, 'spec': {'path': 's3://datalake/td733-demo-early-exit-eng/artifact/bpe-256.lex/ff96eb42cf0441899507ca1213c8ed57/bpe-256.lex'}, 'status': {'state': 'READY', 'files': [{'path': 'bpe-256.lex', 'name': 'bpe-256.lex', 'content_type': 'binary/octet-stream', 'size': 3066357, 'hash': 'md5:98f2a50b2289f415699401d1c46a88a2', 'last_modified': '2025-06-23T11:39:18+00:00'}]}, 'user': 'emanuele.boscari@tndigit.it', 'project': 'td733-demo-early-exit-eng', 'name': 'bpe-256.lex', 'id': 'ff96eb42cf0441899507ca1213c8ed57', 'key': 'store://td733-demo-early-exit-eng/artifact/artifact/bpe-256.lex:ff96eb42cf0441899507ca1213c8ed57'}"
      ]
     },
     "execution_count": 10,
     "metadata": {},
     "output_type": "execute_result"
    }
   ],
   "source": [
    "project.log_artifact(\n",
    "    name=\"bpe-256.lex\",\n",
    "    kind=\"artifact\",\n",
    "    source=f\"{BASE_DIR}/English-EE-conformer/bpe-256.lex\"\n",
    ")"
   ]
  },
  {
   "cell_type": "code",
   "execution_count": 11,
   "metadata": {},
   "outputs": [
    {
     "data": {
      "text/plain": [
       "{'kind': 'artifact', 'metadata': {'project': 'td733-demo-early-exit-eng', 'name': 'bpe-256.tok', 'version': '02fcbde4860d4586a79e523eb3747513', 'created': '2025-06-23T11:39:19.484Z', 'updated': '2025-06-23T11:39:19.759Z', 'created_by': 'emanuele.boscari@tndigit.it', 'updated_by': 'emanuele.boscari@tndigit.it', 'embedded': False}, 'spec': {'path': 's3://datalake/td733-demo-early-exit-eng/artifact/bpe-256.tok/02fcbde4860d4586a79e523eb3747513/bpe-256.tok'}, 'status': {'state': 'READY', 'files': [{'path': 'bpe-256.tok', 'name': 'bpe-256.tok', 'content_type': 'binary/octet-stream', 'size': 1141, 'hash': 'md5:71b1508ddc66826cbe5beaad8a0ace95', 'last_modified': '2025-06-23T11:39:19+00:00'}]}, 'user': 'emanuele.boscari@tndigit.it', 'project': 'td733-demo-early-exit-eng', 'name': 'bpe-256.tok', 'id': '02fcbde4860d4586a79e523eb3747513', 'key': 'store://td733-demo-early-exit-eng/artifact/artifact/bpe-256.tok:02fcbde4860d4586a79e523eb3747513'}"
      ]
     },
     "execution_count": 11,
     "metadata": {},
     "output_type": "execute_result"
    }
   ],
   "source": [
    "project.log_artifact(\n",
    "    name=\"bpe-256.tok\",\n",
    "    kind=\"artifact\",\n",
    "    source=f\"{BASE_DIR}/English-EE-conformer/bpe-256.tok\"\n",
    ")"
   ]
  },
  {
   "cell_type": "code",
   "execution_count": 16,
   "metadata": {},
   "outputs": [],
   "source": [
    "func = project.new_function(name=\"serve_function\",\n",
    "                            kind=\"python\",\n",
    "                            python_version=\"PYTHON3_10\",\n",
    "                            code_src=\"git+https://github.com/eb-tndigit/audio-early-exit-transformer\",\n",
    "                            handler=\"serve_model:serve_multipart\",\n",
    "                            init_function=\"init\",\n",
    "                            requirements=[\"torch==2.5.0\", \"torchaudio==2.5.0\", \"tensorboard==2.18.0\",\n",
    "                                \"flashlight==0.1.1\", \"flashlight-text==0.0.7\", \"sentencepiece==0.2.0\",\n",
    "                                \"soundfile==0.12.1\", \"editdistance==0.8.1\", \"multipart==1.2.1\"])"
   ]
  },
  {
   "cell_type": "code",
   "execution_count": 17,
   "metadata": {},
   "outputs": [],
   "source": [
    "run = func.run(\n",
    "    action=\"serve\",\n",
    "    resources = { \"cpu\": { \"limits\": \"4\"  },  \"mem\" : { \"limits\": \"24Gi\" }, \"gpu\": { \"requests\": \"1\", \"limits\": \"1\"  }},\n",
    "    tolerations = [{\"key\": \"nvidia.com/gpu\", \"operator\": \"Equal\", \"value\": \"h100\", \"effect\": \"NoSchedule\"}],           \n",
    "    init_parameters = {\n",
    "        \"model_name\":\"early-exit-model\", # TODO FORSE DA CAMBIARE DOPO IL TRAIN\n",
    "        \"sp_model\":\"bpe-256.model\",\n",
    "        \"sp_lexicon\":\"bpe-256.lex\",\n",
    "        \"sp_tokens\":\"bpe-256.tok\"\n",
    "    },    \n",
    "    volumes=[\n",
    "        {\n",
    "            \"volume_type\": \"persistent_volume_claim\",\n",
    "            \"name\": \"early-exit-demo-serve\",\n",
    "            \"mount_path\": \"/data\",\n",
    "            \"spec\": { \"size\": \"15Gi\" }        \n",
    "        }\n",
    "    ]\n",
    ")"
   ]
  },
  {
   "cell_type": "code",
   "execution_count": 18,
   "metadata": {},
   "outputs": [
    {
     "data": {
      "text/plain": [
       "{'kind': 'artifact', 'metadata': {'project': 'td733-demo-early-exit-eng', 'name': 'test.wav', 'version': '3b5846f4e54e4f46860ad67b762bf402', 'created': '2025-06-23T12:05:59.133Z', 'updated': '2025-06-23T12:06:01.067Z', 'created_by': 'emanuele.boscari@tndigit.it', 'updated_by': 'emanuele.boscari@tndigit.it', 'embedded': False}, 'spec': {'path': 's3://datalake/td733-demo-early-exit-eng/artifact/test.wav/3b5846f4e54e4f46860ad67b762bf402/test.wav'}, 'status': {'state': 'READY', 'files': [{'path': 'test.wav', 'name': 'test.wav', 'content_type': 'audio/x-wav', 'size': 26935374, 'hash': 'ETag:3e55d3adf4dfa3b399b11aa36ccc5799-4', 'last_modified': '2025-06-23T12:06:00+00:00'}]}, 'user': 'emanuele.boscari@tndigit.it', 'project': 'td733-demo-early-exit-eng', 'name': 'test.wav', 'id': '3b5846f4e54e4f46860ad67b762bf402', 'key': 'store://td733-demo-early-exit-eng/artifact/artifact/test.wav:3b5846f4e54e4f46860ad67b762bf402'}"
      ]
     },
     "execution_count": 18,
     "metadata": {},
     "output_type": "execute_result"
    }
   ],
   "source": [
    "project.log_artifact(\n",
    "    name=\"test.wav\",\n",
    "    kind=\"artifact\",\n",
    "    source=f\"{BASE_DIR}/test.wav\"\n",
    ")"
   ]
  },
  {
   "cell_type": "code",
   "execution_count": null,
   "metadata": {},
   "outputs": [],
   "source": [
    "run.refresh()\n",
    "file_path = f\"{BASE_DIR}/test.wav\"\n",
    "with open(file_path, \"rb\") as file:\n",
    "    files = {'file': file}\n",
    "    response = run.invoke(method=\"POST\", files=files)\n",
    "    print(response.status_code)\n",
    "    print(response.text)"
   ]
  },
  {
   "cell_type": "code",
   "execution_count": null,
   "metadata": {},
   "outputs": [],
   "source": [
    "#run.refresh()\n",
    "#json = {\"name\": \"test-audio-eng.wav\"}\n",
    "#response = run.invoke(method=\"POST\", json=json)\n",
    "#print(response.json())"
   ]
  },
  {
   "cell_type": "code",
   "execution_count": null,
   "metadata": {},
   "outputs": [],
   "source": [
    "#function = project.new_function(\n",
    "#    kind='container',\n",
    "#    name='serve_eng_function',\n",
    "#    image=\"ghcr.io/tn-aixpa/audio-early-exit-eng:0.1\",\n",
    "#    args=[\"early-exit-eng-model\"]\n",
    "#)"
   ]
  },
  {
   "cell_type": "code",
   "execution_count": null,
   "metadata": {},
   "outputs": [],
   "source": [
    "#run = function.run(\n",
    "#    action=\"serve\",\n",
    "#    profile=\"1xa100\",\n",
    "#    fs_group=100,\n",
    "#    service_ports = [\n",
    "#        {\n",
    "#            \"port\": 8051,\n",
    "#            \"target_port\": 8051\n",
    "#        }\n",
    "#    ],\n",
    "#    volumes=[\n",
    "#        {\n",
    "#            \"volume_type\": \"persistent_volume_claim\",\n",
    "#            \"name\": \"early-exit-demo-serve\",\n",
    "#            \"mount_path\": \"/data\",\n",
    "#            \"spec\": {\n",
    "#                \"claim_name\": \"early-exit-demo-serve\"\n",
    "#            }\n",
    "#        }\n",
    "#    ]\n",
    "#)"
   ]
  }
 ],
 "metadata": {
  "kernelspec": {
   "display_name": "Python 3 (ipykernel)",
   "language": "python",
   "name": "python3"
  },
  "language_info": {
   "codemirror_mode": {
    "name": "ipython",
    "version": 3
   },
   "file_extension": ".py",
   "mimetype": "text/x-python",
   "name": "python",
   "nbconvert_exporter": "python",
   "pygments_lexer": "ipython3",
   "version": "3.10.11"
  }
 },
 "nbformat": 4,
 "nbformat_minor": 4
}
